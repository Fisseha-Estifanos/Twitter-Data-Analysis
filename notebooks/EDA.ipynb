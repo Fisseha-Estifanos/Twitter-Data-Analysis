{
 "cells": [
  {
   "cell_type": "code",
   "execution_count": 1,
   "metadata": {},
   "outputs": [],
   "source": [
    "# imports\n",
    "import sys\n",
    "import pandas as pd\n",
    "import seaborn as sns\n",
    "import pandas_profiling\n",
    "import matplotlib.pyplot as plt\n",
    "from pandas_profiling import ProfileReport"
   ]
  },
  {
   "cell_type": "code",
   "execution_count": 2,
   "metadata": {},
   "outputs": [],
   "source": [
    "# import custom libraries and scripts\n",
    "# sys.path.append(os.path.abspath(os.path.join(\"../..\")))\n",
    "sys.path.append(\".\")\n",
    "sys.path.append(\"..\")\n",
    "\n",
    "from defaults import *\n",
    "from extract_dataframe import read_json\n",
    "from extract_dataframe import TweetDfExtractor\n",
    "from clean_tweets_dataframe import Clean_Tweets"
   ]
  },
  {
   "cell_type": "code",
   "execution_count": 3,
   "metadata": {},
   "outputs": [],
   "source": [
    "# read processed data set\n",
    "tweets_df = pd.read_json('../data/clean_data.json')"
   ]
  },
  {
   "cell_type": "markdown",
   "metadata": {},
   "source": [
    "### EDA"
   ]
  },
  {
   "cell_type": "code",
   "execution_count": 4,
   "metadata": {},
   "outputs": [
    {
     "data": {
      "text/html": [
       "<div>\n",
       "<style scoped>\n",
       "    .dataframe tbody tr th:only-of-type {\n",
       "        vertical-align: middle;\n",
       "    }\n",
       "\n",
       "    .dataframe tbody tr th {\n",
       "        vertical-align: top;\n",
       "    }\n",
       "\n",
       "    .dataframe thead th {\n",
       "        text-align: right;\n",
       "    }\n",
       "</style>\n",
       "<table border=\"1\" class=\"dataframe\">\n",
       "  <thead>\n",
       "    <tr style=\"text-align: right;\">\n",
       "      <th></th>\n",
       "      <th>created_at</th>\n",
       "      <th>source</th>\n",
       "      <th>original_text</th>\n",
       "      <th>polarity</th>\n",
       "      <th>subjectivity</th>\n",
       "      <th>lang</th>\n",
       "      <th>favorite_count</th>\n",
       "      <th>status_count</th>\n",
       "      <th>retweet_count</th>\n",
       "      <th>screen_name</th>\n",
       "      <th>original_author</th>\n",
       "      <th>followers_count</th>\n",
       "      <th>friends_count</th>\n",
       "      <th>possibly_sensitive</th>\n",
       "      <th>hashtags</th>\n",
       "      <th>user_mentions</th>\n",
       "      <th>place</th>\n",
       "    </tr>\n",
       "  </thead>\n",
       "  <tbody>\n",
       "    <tr>\n",
       "      <th>0</th>\n",
       "      <td>2022-08-07 22:31:20</td>\n",
       "      <td>Twitter for Android</td>\n",
       "      <td>RT @i_ameztoy: Extra random image (I):\\n\\nLets...</td>\n",
       "      <td>-1.250000e-01</td>\n",
       "      <td>0.190625</td>\n",
       "      <td>en</td>\n",
       "      <td>4</td>\n",
       "      <td>8097</td>\n",
       "      <td>2</td>\n",
       "      <td>i_ameztoy</td>\n",
       "      <td>i_ameztoy</td>\n",
       "      <td>20497</td>\n",
       "      <td>2621</td>\n",
       "      <td>unknown</td>\n",
       "      <td>[{'text': 'City', 'indices': [132, 137]}]</td>\n",
       "      <td>[{'screen_name': 'i_ameztoy', 'name': 'Iban Am...</td>\n",
       "      <td>unknown</td>\n",
       "    </tr>\n",
       "    <tr>\n",
       "      <th>1</th>\n",
       "      <td>2022-08-07 22:31:16</td>\n",
       "      <td>Twitter for Android</td>\n",
       "      <td>RT @IndoPac_Info: #China's media explains the ...</td>\n",
       "      <td>-1.000000e-01</td>\n",
       "      <td>0.100000</td>\n",
       "      <td>en</td>\n",
       "      <td>691</td>\n",
       "      <td>5831</td>\n",
       "      <td>201</td>\n",
       "      <td>ZIisq</td>\n",
       "      <td>ZIisq</td>\n",
       "      <td>65</td>\n",
       "      <td>272</td>\n",
       "      <td>unknown</td>\n",
       "      <td>[{'text': 'China', 'indices': [18, 24]}, {'tex...</td>\n",
       "      <td>[{'screen_name': 'IndoPac_Info', 'name': 'Indo...</td>\n",
       "      <td>unknown</td>\n",
       "    </tr>\n",
       "    <tr>\n",
       "      <th>2</th>\n",
       "      <td>2022-08-07 22:31:07</td>\n",
       "      <td>Twitter for Android</td>\n",
       "      <td>China even cut off communication, they don't a...</td>\n",
       "      <td>0.000000e+00</td>\n",
       "      <td>0.000000</td>\n",
       "      <td>en</td>\n",
       "      <td>0</td>\n",
       "      <td>1627</td>\n",
       "      <td>0</td>\n",
       "      <td>Fin21Free</td>\n",
       "      <td>Fin21Free</td>\n",
       "      <td>85</td>\n",
       "      <td>392</td>\n",
       "      <td>unknown</td>\n",
       "      <td>[{'text': 'XiJinping', 'indices': [127, 137]}]</td>\n",
       "      <td>[{'screen_name': 'ZelenskyyUa', 'name': 'Волод...</td>\n",
       "      <td>Netherlands</td>\n",
       "    </tr>\n",
       "    <tr>\n",
       "      <th>3</th>\n",
       "      <td>2022-08-07 22:31:06</td>\n",
       "      <td>Twitter for Android</td>\n",
       "      <td>Putin to #XiJinping : I told you my friend, Ta...</td>\n",
       "      <td>1.000000e-01</td>\n",
       "      <td>0.350000</td>\n",
       "      <td>en</td>\n",
       "      <td>0</td>\n",
       "      <td>1627</td>\n",
       "      <td>0</td>\n",
       "      <td>Fin21Free</td>\n",
       "      <td>Fin21Free</td>\n",
       "      <td>85</td>\n",
       "      <td>392</td>\n",
       "      <td>unknown</td>\n",
       "      <td>[{'text': 'XiJinping', 'indices': [9, 19]}]</td>\n",
       "      <td>[]</td>\n",
       "      <td>Netherlands</td>\n",
       "    </tr>\n",
       "    <tr>\n",
       "      <th>4</th>\n",
       "      <td>2022-08-07 22:31:04</td>\n",
       "      <td>Twitter for iPhone</td>\n",
       "      <td>RT @ChinaUncensored: I’m sorry, I thought Taiw...</td>\n",
       "      <td>-6.938894e-18</td>\n",
       "      <td>0.556250</td>\n",
       "      <td>en</td>\n",
       "      <td>1521</td>\n",
       "      <td>18958</td>\n",
       "      <td>381</td>\n",
       "      <td>VizziniDolores</td>\n",
       "      <td>VizziniDolores</td>\n",
       "      <td>910</td>\n",
       "      <td>2608</td>\n",
       "      <td>unknown</td>\n",
       "      <td>[]</td>\n",
       "      <td>[{'screen_name': 'ChinaUncensored', 'name': 'C...</td>\n",
       "      <td>Ayent, Schweiz</td>\n",
       "    </tr>\n",
       "  </tbody>\n",
       "</table>\n",
       "</div>"
      ],
      "text/plain": [
       "           created_at               source  \\\n",
       "0 2022-08-07 22:31:20  Twitter for Android   \n",
       "1 2022-08-07 22:31:16  Twitter for Android   \n",
       "2 2022-08-07 22:31:07  Twitter for Android   \n",
       "3 2022-08-07 22:31:06  Twitter for Android   \n",
       "4 2022-08-07 22:31:04   Twitter for iPhone   \n",
       "\n",
       "                                       original_text      polarity  \\\n",
       "0  RT @i_ameztoy: Extra random image (I):\\n\\nLets... -1.250000e-01   \n",
       "1  RT @IndoPac_Info: #China's media explains the ... -1.000000e-01   \n",
       "2  China even cut off communication, they don't a...  0.000000e+00   \n",
       "3  Putin to #XiJinping : I told you my friend, Ta...  1.000000e-01   \n",
       "4  RT @ChinaUncensored: I’m sorry, I thought Taiw... -6.938894e-18   \n",
       "\n",
       "   subjectivity lang  favorite_count  status_count  retweet_count  \\\n",
       "0      0.190625   en               4          8097              2   \n",
       "1      0.100000   en             691          5831            201   \n",
       "2      0.000000   en               0          1627              0   \n",
       "3      0.350000   en               0          1627              0   \n",
       "4      0.556250   en            1521         18958            381   \n",
       "\n",
       "      screen_name original_author  followers_count  friends_count  \\\n",
       "0       i_ameztoy       i_ameztoy            20497           2621   \n",
       "1           ZIisq           ZIisq               65            272   \n",
       "2       Fin21Free       Fin21Free               85            392   \n",
       "3       Fin21Free       Fin21Free               85            392   \n",
       "4  VizziniDolores  VizziniDolores              910           2608   \n",
       "\n",
       "  possibly_sensitive                                           hashtags  \\\n",
       "0            unknown          [{'text': 'City', 'indices': [132, 137]}]   \n",
       "1            unknown  [{'text': 'China', 'indices': [18, 24]}, {'tex...   \n",
       "2            unknown     [{'text': 'XiJinping', 'indices': [127, 137]}]   \n",
       "3            unknown        [{'text': 'XiJinping', 'indices': [9, 19]}]   \n",
       "4            unknown                                                 []   \n",
       "\n",
       "                                       user_mentions           place  \n",
       "0  [{'screen_name': 'i_ameztoy', 'name': 'Iban Am...         unknown  \n",
       "1  [{'screen_name': 'IndoPac_Info', 'name': 'Indo...         unknown  \n",
       "2  [{'screen_name': 'ZelenskyyUa', 'name': 'Волод...     Netherlands  \n",
       "3                                                 []     Netherlands  \n",
       "4  [{'screen_name': 'ChinaUncensored', 'name': 'C...  Ayent, Schweiz  "
      ]
     },
     "execution_count": 4,
     "metadata": {},
     "output_type": "execute_result"
    }
   ],
   "source": [
    "tweets_df.head()"
   ]
  },
  {
   "cell_type": "code",
   "execution_count": 5,
   "metadata": {},
   "outputs": [
    {
     "name": "stdout",
     "output_type": "stream",
     "text": [
      "Automation in Action...!!!\n"
     ]
    }
   ],
   "source": [
    "cleaner = Clean_Tweets(tweets_df.copy())"
   ]
  },
  {
   "cell_type": "markdown",
   "metadata": {},
   "source": [
    "### Making explorations"
   ]
  },
  {
   "cell_type": "code",
   "execution_count": 6,
   "metadata": {},
   "outputs": [
    {
     "data": {
      "text/plain": [
       "(7440, 17)"
      ]
     },
     "execution_count": 6,
     "metadata": {},
     "output_type": "execute_result"
    }
   ],
   "source": [
    "# shape of dataframe\n",
    "tweets_df.shape"
   ]
  },
  {
   "cell_type": "code",
   "execution_count": 7,
   "metadata": {},
   "outputs": [
    {
     "name": "stdout",
     "output_type": "stream",
     "text": [
      "<class 'pandas.core.frame.DataFrame'>\n",
      "Int64Index: 7440 entries, 0 to 21997\n",
      "Data columns (total 17 columns):\n",
      " #   Column              Non-Null Count  Dtype         \n",
      "---  ------              --------------  -----         \n",
      " 0   created_at          7440 non-null   datetime64[ns]\n",
      " 1   source              7440 non-null   object        \n",
      " 2   original_text       7440 non-null   object        \n",
      " 3   polarity            7440 non-null   float64       \n",
      " 4   subjectivity        7440 non-null   float64       \n",
      " 5   lang                7440 non-null   object        \n",
      " 6   favorite_count      7440 non-null   int64         \n",
      " 7   status_count        7440 non-null   int64         \n",
      " 8   retweet_count       7440 non-null   int64         \n",
      " 9   screen_name         7440 non-null   object        \n",
      " 10  original_author     7440 non-null   object        \n",
      " 11  followers_count     7440 non-null   int64         \n",
      " 12  friends_count       7440 non-null   int64         \n",
      " 13  possibly_sensitive  7440 non-null   object        \n",
      " 14  hashtags            7440 non-null   object        \n",
      " 15  user_mentions       7440 non-null   object        \n",
      " 16  place               7440 non-null   object        \n",
      "dtypes: datetime64[ns](1), float64(2), int64(5), object(9)\n",
      "memory usage: 1.0+ MB\n"
     ]
    }
   ],
   "source": [
    "tweets_df.info()"
   ]
  },
  {
   "cell_type": "code",
   "execution_count": 8,
   "metadata": {},
   "outputs": [
    {
     "data": {
      "text/plain": [
       "created_at            0\n",
       "source                0\n",
       "original_text         0\n",
       "polarity              0\n",
       "subjectivity          0\n",
       "lang                  0\n",
       "favorite_count        0\n",
       "status_count          0\n",
       "retweet_count         0\n",
       "screen_name           0\n",
       "original_author       0\n",
       "followers_count       0\n",
       "friends_count         0\n",
       "possibly_sensitive    0\n",
       "hashtags              0\n",
       "user_mentions         0\n",
       "place                 0\n",
       "dtype: int64"
      ]
     },
     "execution_count": 8,
     "metadata": {},
     "output_type": "execute_result"
    }
   ],
   "source": [
    "tweets_df.isna().sum()"
   ]
  },
  {
   "cell_type": "markdown",
   "metadata": {},
   "source": [
    "No missing values"
   ]
  },
  {
   "cell_type": "code",
   "execution_count": 9,
   "metadata": {},
   "outputs": [
    {
     "data": {
      "text/html": [
       "<div>\n",
       "<style scoped>\n",
       "    .dataframe tbody tr th:only-of-type {\n",
       "        vertical-align: middle;\n",
       "    }\n",
       "\n",
       "    .dataframe tbody tr th {\n",
       "        vertical-align: top;\n",
       "    }\n",
       "\n",
       "    .dataframe thead th {\n",
       "        text-align: right;\n",
       "    }\n",
       "</style>\n",
       "<table border=\"1\" class=\"dataframe\">\n",
       "  <thead>\n",
       "    <tr style=\"text-align: right;\">\n",
       "      <th></th>\n",
       "      <th>polarity</th>\n",
       "      <th>subjectivity</th>\n",
       "      <th>favorite_count</th>\n",
       "      <th>status_count</th>\n",
       "      <th>retweet_count</th>\n",
       "      <th>followers_count</th>\n",
       "      <th>friends_count</th>\n",
       "    </tr>\n",
       "  </thead>\n",
       "  <tbody>\n",
       "    <tr>\n",
       "      <th>count</th>\n",
       "      <td>7440.000000</td>\n",
       "      <td>7440.000000</td>\n",
       "      <td>7440.000000</td>\n",
       "      <td>7.440000e+03</td>\n",
       "      <td>7440.000000</td>\n",
       "      <td>7.440000e+03</td>\n",
       "      <td>7440.000000</td>\n",
       "    </tr>\n",
       "    <tr>\n",
       "      <th>mean</th>\n",
       "      <td>0.056783</td>\n",
       "      <td>0.295638</td>\n",
       "      <td>203.351210</td>\n",
       "      <td>4.900565e+04</td>\n",
       "      <td>38.713172</td>\n",
       "      <td>4.107761e+04</td>\n",
       "      <td>1715.558871</td>\n",
       "    </tr>\n",
       "    <tr>\n",
       "      <th>std</th>\n",
       "      <td>0.230156</td>\n",
       "      <td>0.287805</td>\n",
       "      <td>1655.690148</td>\n",
       "      <td>1.432954e+05</td>\n",
       "      <td>326.757025</td>\n",
       "      <td>4.910108e+05</td>\n",
       "      <td>5305.897528</td>\n",
       "    </tr>\n",
       "    <tr>\n",
       "      <th>min</th>\n",
       "      <td>-1.000000</td>\n",
       "      <td>0.000000</td>\n",
       "      <td>0.000000</td>\n",
       "      <td>1.000000e+00</td>\n",
       "      <td>0.000000</td>\n",
       "      <td>0.000000e+00</td>\n",
       "      <td>0.000000</td>\n",
       "    </tr>\n",
       "    <tr>\n",
       "      <th>25%</th>\n",
       "      <td>0.000000</td>\n",
       "      <td>0.000000</td>\n",
       "      <td>0.000000</td>\n",
       "      <td>1.549250e+03</td>\n",
       "      <td>0.000000</td>\n",
       "      <td>7.275000e+01</td>\n",
       "      <td>106.000000</td>\n",
       "    </tr>\n",
       "    <tr>\n",
       "      <th>50%</th>\n",
       "      <td>0.000000</td>\n",
       "      <td>0.250000</td>\n",
       "      <td>0.000000</td>\n",
       "      <td>7.904000e+03</td>\n",
       "      <td>0.000000</td>\n",
       "      <td>3.670000e+02</td>\n",
       "      <td>440.000000</td>\n",
       "    </tr>\n",
       "    <tr>\n",
       "      <th>75%</th>\n",
       "      <td>0.136364</td>\n",
       "      <td>0.500000</td>\n",
       "      <td>4.000000</td>\n",
       "      <td>3.510900e+04</td>\n",
       "      <td>2.000000</td>\n",
       "      <td>1.833000e+03</td>\n",
       "      <td>1505.000000</td>\n",
       "    </tr>\n",
       "    <tr>\n",
       "      <th>max</th>\n",
       "      <td>1.000000</td>\n",
       "      <td>1.000000</td>\n",
       "      <td>65170.000000</td>\n",
       "      <td>4.108317e+06</td>\n",
       "      <td>17409.000000</td>\n",
       "      <td>1.449852e+07</td>\n",
       "      <td>208360.000000</td>\n",
       "    </tr>\n",
       "  </tbody>\n",
       "</table>\n",
       "</div>"
      ],
      "text/plain": [
       "          polarity  subjectivity  favorite_count  status_count  retweet_count  \\\n",
       "count  7440.000000   7440.000000     7440.000000  7.440000e+03    7440.000000   \n",
       "mean      0.056783      0.295638      203.351210  4.900565e+04      38.713172   \n",
       "std       0.230156      0.287805     1655.690148  1.432954e+05     326.757025   \n",
       "min      -1.000000      0.000000        0.000000  1.000000e+00       0.000000   \n",
       "25%       0.000000      0.000000        0.000000  1.549250e+03       0.000000   \n",
       "50%       0.000000      0.250000        0.000000  7.904000e+03       0.000000   \n",
       "75%       0.136364      0.500000        4.000000  3.510900e+04       2.000000   \n",
       "max       1.000000      1.000000    65170.000000  4.108317e+06   17409.000000   \n",
       "\n",
       "       followers_count  friends_count  \n",
       "count     7.440000e+03    7440.000000  \n",
       "mean      4.107761e+04    1715.558871  \n",
       "std       4.910108e+05    5305.897528  \n",
       "min       0.000000e+00       0.000000  \n",
       "25%       7.275000e+01     106.000000  \n",
       "50%       3.670000e+02     440.000000  \n",
       "75%       1.833000e+03    1505.000000  \n",
       "max       1.449852e+07  208360.000000  "
      ]
     },
     "execution_count": 9,
     "metadata": {},
     "output_type": "execute_result"
    }
   ],
   "source": [
    "# stats about numerical columns\n",
    "tweets_df.describe()"
   ]
  },
  {
   "cell_type": "markdown",
   "metadata": {},
   "source": [
    "#### Correlations"
   ]
  },
  {
   "cell_type": "code",
   "execution_count": 10,
   "metadata": {},
   "outputs": [
    {
     "data": {
      "text/html": [
       "<style type=\"text/css\">\n",
       "#T_76353_row0_col0, #T_76353_row1_col1, #T_76353_row2_col2, #T_76353_row3_col3, #T_76353_row4_col4, #T_76353_row5_col5, #T_76353_row6_col6 {\n",
       "  background-color: #67001f;\n",
       "  color: #f1f1f1;\n",
       "}\n",
       "#T_76353_row0_col1 {\n",
       "  background-color: #81bad8;\n",
       "  color: #000000;\n",
       "}\n",
       "#T_76353_row0_col2 {\n",
       "  background-color: #1c5c9f;\n",
       "  color: #f1f1f1;\n",
       "}\n",
       "#T_76353_row0_col3, #T_76353_row0_col5 {\n",
       "  background-color: #0a3b70;\n",
       "  color: #f1f1f1;\n",
       "}\n",
       "#T_76353_row0_col4 {\n",
       "  background-color: #144e8a;\n",
       "  color: #f1f1f1;\n",
       "}\n",
       "#T_76353_row0_col6, #T_76353_row1_col3, #T_76353_row1_col5, #T_76353_row1_col6, #T_76353_row3_col0, #T_76353_row3_col1, #T_76353_row5_col2, #T_76353_row5_col4, #T_76353_row5_col6 {\n",
       "  background-color: #053061;\n",
       "  color: #f1f1f1;\n",
       "}\n",
       "#T_76353_row1_col0 {\n",
       "  background-color: #75b2d4;\n",
       "  color: #f1f1f1;\n",
       "}\n",
       "#T_76353_row1_col2, #T_76353_row2_col6 {\n",
       "  background-color: #114781;\n",
       "  color: #f1f1f1;\n",
       "}\n",
       "#T_76353_row1_col4, #T_76353_row3_col4 {\n",
       "  background-color: #0d3f76;\n",
       "  color: #f1f1f1;\n",
       "}\n",
       "#T_76353_row2_col0 {\n",
       "  background-color: #1d5fa2;\n",
       "  color: #f1f1f1;\n",
       "}\n",
       "#T_76353_row2_col1 {\n",
       "  background-color: #185493;\n",
       "  color: #f1f1f1;\n",
       "}\n",
       "#T_76353_row2_col3 {\n",
       "  background-color: #10457e;\n",
       "  color: #f1f1f1;\n",
       "}\n",
       "#T_76353_row2_col4, #T_76353_row4_col2 {\n",
       "  background-color: #b1182b;\n",
       "  color: #f1f1f1;\n",
       "}\n",
       "#T_76353_row2_col5, #T_76353_row4_col5 {\n",
       "  background-color: #073467;\n",
       "  color: #f1f1f1;\n",
       "}\n",
       "#T_76353_row3_col2, #T_76353_row5_col0 {\n",
       "  background-color: #09386d;\n",
       "  color: #f1f1f1;\n",
       "}\n",
       "#T_76353_row3_col5 {\n",
       "  background-color: #87beda;\n",
       "  color: #000000;\n",
       "}\n",
       "#T_76353_row3_col6 {\n",
       "  background-color: #3681ba;\n",
       "  color: #f1f1f1;\n",
       "}\n",
       "#T_76353_row4_col0 {\n",
       "  background-color: #15508d;\n",
       "  color: #f1f1f1;\n",
       "}\n",
       "#T_76353_row4_col1, #T_76353_row4_col6, #T_76353_row6_col2 {\n",
       "  background-color: #124984;\n",
       "  color: #f1f1f1;\n",
       "}\n",
       "#T_76353_row4_col3, #T_76353_row6_col4 {\n",
       "  background-color: #134c87;\n",
       "  color: #f1f1f1;\n",
       "}\n",
       "#T_76353_row5_col1, #T_76353_row6_col5 {\n",
       "  background-color: #08366a;\n",
       "  color: #f1f1f1;\n",
       "}\n",
       "#T_76353_row5_col3 {\n",
       "  background-color: #90c4dd;\n",
       "  color: #000000;\n",
       "}\n",
       "#T_76353_row6_col0 {\n",
       "  background-color: #063264;\n",
       "  color: #f1f1f1;\n",
       "}\n",
       "#T_76353_row6_col1 {\n",
       "  background-color: #0c3d73;\n",
       "  color: #f1f1f1;\n",
       "}\n",
       "#T_76353_row6_col3 {\n",
       "  background-color: #3e8cbf;\n",
       "  color: #f1f1f1;\n",
       "}\n",
       "</style>\n",
       "<table id=\"T_76353\">\n",
       "  <thead>\n",
       "    <tr>\n",
       "      <th class=\"blank level0\" >&nbsp;</th>\n",
       "      <th id=\"T_76353_level0_col0\" class=\"col_heading level0 col0\" >polarity</th>\n",
       "      <th id=\"T_76353_level0_col1\" class=\"col_heading level0 col1\" >subjectivity</th>\n",
       "      <th id=\"T_76353_level0_col2\" class=\"col_heading level0 col2\" >favorite_count</th>\n",
       "      <th id=\"T_76353_level0_col3\" class=\"col_heading level0 col3\" >status_count</th>\n",
       "      <th id=\"T_76353_level0_col4\" class=\"col_heading level0 col4\" >retweet_count</th>\n",
       "      <th id=\"T_76353_level0_col5\" class=\"col_heading level0 col5\" >followers_count</th>\n",
       "      <th id=\"T_76353_level0_col6\" class=\"col_heading level0 col6\" >friends_count</th>\n",
       "    </tr>\n",
       "  </thead>\n",
       "  <tbody>\n",
       "    <tr>\n",
       "      <th id=\"T_76353_level0_row0\" class=\"row_heading level0 row0\" >polarity</th>\n",
       "      <td id=\"T_76353_row0_col0\" class=\"data row0 col0\" >1.000000</td>\n",
       "      <td id=\"T_76353_row0_col1\" class=\"data row0 col1\" >0.253063</td>\n",
       "      <td id=\"T_76353_row0_col2\" class=\"data row0 col2\" >0.074721</td>\n",
       "      <td id=\"T_76353_row0_col3\" class=\"data row0 col3\" >-0.012558</td>\n",
       "      <td id=\"T_76353_row0_col4\" class=\"data row0 col4\" >0.048907</td>\n",
       "      <td id=\"T_76353_row0_col5\" class=\"data row0 col5\" >0.004665</td>\n",
       "      <td id=\"T_76353_row0_col6\" class=\"data row0 col6\" >-0.005431</td>\n",
       "    </tr>\n",
       "    <tr>\n",
       "      <th id=\"T_76353_level0_row1\" class=\"row_heading level0 row1\" >subjectivity</th>\n",
       "      <td id=\"T_76353_row1_col0\" class=\"data row1 col0\" >0.253063</td>\n",
       "      <td id=\"T_76353_row1_col1\" class=\"data row1 col1\" >1.000000</td>\n",
       "      <td id=\"T_76353_row1_col2\" class=\"data row1 col2\" >0.035435</td>\n",
       "      <td id=\"T_76353_row1_col3\" class=\"data row1 col3\" >-0.033702</td>\n",
       "      <td id=\"T_76353_row1_col4\" class=\"data row1 col4\" >0.018785</td>\n",
       "      <td id=\"T_76353_row1_col5\" class=\"data row1 col5\" >-0.018343</td>\n",
       "      <td id=\"T_76353_row1_col6\" class=\"data row1 col6\" >-0.006331</td>\n",
       "    </tr>\n",
       "    <tr>\n",
       "      <th id=\"T_76353_level0_row2\" class=\"row_heading level0 row2\" >favorite_count</th>\n",
       "      <td id=\"T_76353_row2_col0\" class=\"data row2 col0\" >0.074721</td>\n",
       "      <td id=\"T_76353_row2_col1\" class=\"data row2 col1\" >0.035435</td>\n",
       "      <td id=\"T_76353_row2_col2\" class=\"data row2 col2\" >1.000000</td>\n",
       "      <td id=\"T_76353_row2_col3\" class=\"data row2 col3\" >0.009158</td>\n",
       "      <td id=\"T_76353_row2_col4\" class=\"data row2 col4\" >0.899763</td>\n",
       "      <td id=\"T_76353_row2_col5\" class=\"data row2 col5\" >-0.009862</td>\n",
       "      <td id=\"T_76353_row2_col6\" class=\"data row2 col6\" >0.038065</td>\n",
       "    </tr>\n",
       "    <tr>\n",
       "      <th id=\"T_76353_level0_row3\" class=\"row_heading level0 row3\" >status_count</th>\n",
       "      <td id=\"T_76353_row3_col0\" class=\"data row3 col0\" >-0.012558</td>\n",
       "      <td id=\"T_76353_row3_col1\" class=\"data row3 col1\" >-0.033702</td>\n",
       "      <td id=\"T_76353_row3_col2\" class=\"data row3 col2\" >0.009158</td>\n",
       "      <td id=\"T_76353_row3_col3\" class=\"data row3 col3\" >1.000000</td>\n",
       "      <td id=\"T_76353_row3_col4\" class=\"data row3 col4\" >0.020905</td>\n",
       "      <td id=\"T_76353_row3_col5\" class=\"data row3 col5\" >0.274592</td>\n",
       "      <td id=\"T_76353_row3_col6\" class=\"data row3 col6\" >0.157101</td>\n",
       "    </tr>\n",
       "    <tr>\n",
       "      <th id=\"T_76353_level0_row4\" class=\"row_heading level0 row4\" >retweet_count</th>\n",
       "      <td id=\"T_76353_row4_col0\" class=\"data row4 col0\" >0.048907</td>\n",
       "      <td id=\"T_76353_row4_col1\" class=\"data row4 col1\" >0.018785</td>\n",
       "      <td id=\"T_76353_row4_col2\" class=\"data row4 col2\" >0.899763</td>\n",
       "      <td id=\"T_76353_row4_col3\" class=\"data row4 col3\" >0.020905</td>\n",
       "      <td id=\"T_76353_row4_col4\" class=\"data row4 col4\" >1.000000</td>\n",
       "      <td id=\"T_76353_row4_col5\" class=\"data row4 col5\" >-0.009380</td>\n",
       "      <td id=\"T_76353_row4_col6\" class=\"data row4 col6\" >0.043289</td>\n",
       "    </tr>\n",
       "    <tr>\n",
       "      <th id=\"T_76353_level0_row5\" class=\"row_heading level0 row5\" >followers_count</th>\n",
       "      <td id=\"T_76353_row5_col0\" class=\"data row5 col0\" >0.004665</td>\n",
       "      <td id=\"T_76353_row5_col1\" class=\"data row5 col1\" >-0.018343</td>\n",
       "      <td id=\"T_76353_row5_col2\" class=\"data row5 col2\" >-0.009862</td>\n",
       "      <td id=\"T_76353_row5_col3\" class=\"data row5 col3\" >0.274592</td>\n",
       "      <td id=\"T_76353_row5_col4\" class=\"data row5 col4\" >-0.009380</td>\n",
       "      <td id=\"T_76353_row5_col5\" class=\"data row5 col5\" >1.000000</td>\n",
       "      <td id=\"T_76353_row5_col6\" class=\"data row5 col6\" >-0.003997</td>\n",
       "    </tr>\n",
       "    <tr>\n",
       "      <th id=\"T_76353_level0_row6\" class=\"row_heading level0 row6\" >friends_count</th>\n",
       "      <td id=\"T_76353_row6_col0\" class=\"data row6 col0\" >-0.005431</td>\n",
       "      <td id=\"T_76353_row6_col1\" class=\"data row6 col1\" >-0.006331</td>\n",
       "      <td id=\"T_76353_row6_col2\" class=\"data row6 col2\" >0.038065</td>\n",
       "      <td id=\"T_76353_row6_col3\" class=\"data row6 col3\" >0.157101</td>\n",
       "      <td id=\"T_76353_row6_col4\" class=\"data row6 col4\" >0.043289</td>\n",
       "      <td id=\"T_76353_row6_col5\" class=\"data row6 col5\" >-0.003997</td>\n",
       "      <td id=\"T_76353_row6_col6\" class=\"data row6 col6\" >1.000000</td>\n",
       "    </tr>\n",
       "  </tbody>\n",
       "</table>\n"
      ],
      "text/plain": [
       "<pandas.io.formats.style.Styler at 0x1781321bca0>"
      ]
     },
     "execution_count": 10,
     "metadata": {},
     "output_type": "execute_result"
    }
   ],
   "source": [
    "correlations = tweets_df.corr()\n",
    "correlations.style.background_gradient(cmap='RdBu_r')"
   ]
  },
  {
   "cell_type": "code",
   "execution_count": 11,
   "metadata": {},
   "outputs": [
    {
     "data": {
      "text/plain": [
       "<AxesSubplot:>"
      ]
     },
     "execution_count": 11,
     "metadata": {},
     "output_type": "execute_result"
    },
    {
     "data": {
      "image/png": "[encoded data removed]",
      "text/plain": [
       "<Figure size 432x288 with 2 Axes>"
      ]
     },
     "metadata": {
      "needs_background": "light"
     },
     "output_type": "display_data"
    }
   ],
   "source": [
    "# plot the heatmap\n",
    "sns.heatmap(correlations, \n",
    "        xticklabels=correlations.columns,\n",
    "        yticklabels=correlations.columns)"
   ]
  },
  {
   "cell_type": "markdown",
   "metadata": {},
   "source": [
    "#### Univariate"
   ]
  },
  {
   "cell_type": "code",
   "execution_count": 47,
   "metadata": {},
   "outputs": [
    {
     "data": {
      "image/png": "[encoded data removed]",
      "text/plain": [
       "<Figure size 1080x720 with 1 Axes>"
      ]
     },
     "metadata": {
      "needs_background": "light"
     },
     "output_type": "display_data"
    }
   ],
   "source": [
    "# Generate data on subjectivity\n",
    "fig = plt.figure(figsize = (15,10))\n",
    "subjectivity = tweets_df.subjectivity\n",
    "subjectivity.plot.hist(grid=True, bins=20, rwidth=0.9,\n",
    "                   color='#607c8e')\n",
    "plt.title('subjectivity count')\n",
    "plt.xlabel('subjectivity')\n",
    "plt.ylabel('count')\n",
    "plt.grid(axis='y', alpha=0.75)"
   ]
  },
  {
   "cell_type": "code",
   "execution_count": 13,
   "metadata": {},
   "outputs": [
    {
     "data": {
      "text/plain": [
       "0.2956375125660888"
      ]
     },
     "execution_count": 13,
     "metadata": {},
     "output_type": "execute_result"
    }
   ],
   "source": [
    "subjectivity.mean()"
   ]
  },
  {
   "cell_type": "code",
   "execution_count": 49,
   "metadata": {},
   "outputs": [
    {
     "data": {
      "image/png": "[encoded data removed]",
      "text/plain": [
       "<Figure size 1080x720 with 1 Axes>"
      ]
     },
     "metadata": {
      "needs_background": "light"
     },
     "output_type": "display_data"
    }
   ],
   "source": [
    "# Generate data on polarity\n",
    "fig = plt.figure(figsize = (15,10))\n",
    "polarity = tweets_df.polarity\n",
    "polarity.plot.hist(grid=True, bins=20, rwidth=0.9,\n",
    "                   color='#607c8e')\n",
    "plt.title('polarity count')\n",
    "plt.xlabel('polarity')\n",
    "plt.ylabel('count')\n",
    "plt.grid(axis='y', alpha=0.75)"
   ]
  },
  {
   "cell_type": "code",
   "execution_count": 15,
   "metadata": {},
   "outputs": [
    {
     "data": {
      "text/plain": [
       "0.05678282909697581"
      ]
     },
     "execution_count": 15,
     "metadata": {},
     "output_type": "execute_result"
    }
   ],
   "source": [
    "polarity.mean()"
   ]
  },
  {
   "cell_type": "code",
   "execution_count": 16,
   "metadata": {},
   "outputs": [
    {
     "data": {
      "text/plain": [
       "0.0        3866\n",
       "unknown    3463\n",
       "1.0         111\n",
       "Name: possibly_sensitive, dtype: int64"
      ]
     },
     "execution_count": 16,
     "metadata": {},
     "output_type": "execute_result"
    }
   ],
   "source": [
    "tweets_df.possibly_sensitive.value_counts()"
   ]
  },
  {
   "cell_type": "code",
   "execution_count": 17,
   "metadata": {},
   "outputs": [
    {
     "name": "stdout",
     "output_type": "stream",
     "text": [
      "<class 'pandas.core.frame.DataFrame'>\n",
      "Int64Index: 7440 entries, 0 to 21997\n",
      "Data columns (total 17 columns):\n",
      " #   Column              Non-Null Count  Dtype         \n",
      "---  ------              --------------  -----         \n",
      " 0   created_at          7440 non-null   datetime64[ns]\n",
      " 1   source              7440 non-null   object        \n",
      " 2   original_text       7440 non-null   object        \n",
      " 3   polarity            7440 non-null   float64       \n",
      " 4   subjectivity        7440 non-null   float64       \n",
      " 5   lang                7440 non-null   object        \n",
      " 6   favorite_count      7440 non-null   int64         \n",
      " 7   status_count        7440 non-null   int64         \n",
      " 8   retweet_count       7440 non-null   int64         \n",
      " 9   screen_name         7440 non-null   object        \n",
      " 10  original_author     7440 non-null   object        \n",
      " 11  followers_count     7440 non-null   int64         \n",
      " 12  friends_count       7440 non-null   int64         \n",
      " 13  possibly_sensitive  7440 non-null   object        \n",
      " 14  hashtags            7440 non-null   object        \n",
      " 15  user_mentions       7440 non-null   object        \n",
      " 16  place               7440 non-null   object        \n",
      "dtypes: datetime64[ns](1), float64(2), int64(5), object(9)\n",
      "memory usage: 1.0+ MB\n"
     ]
    }
   ],
   "source": [
    "tweets_df.info()"
   ]
  },
  {
   "cell_type": "code",
   "execution_count": 18,
   "metadata": {},
   "outputs": [
    {
     "data": {
      "text/plain": [
       "0             i_ameztoy\n",
       "1                 ZIisq\n",
       "2             Fin21Free\n",
       "3             Fin21Free\n",
       "4        VizziniDolores\n",
       "              ...      \n",
       "21974     PelosiLibArmy\n",
       "21987    SonnyMullins13\n",
       "21989      TECO_Toronto\n",
       "21991       samserjio93\n",
       "21997      ZeitounRimal\n",
       "Name: original_author, Length: 7440, dtype: object"
      ]
     },
     "execution_count": 18,
     "metadata": {},
     "output_type": "execute_result"
    }
   ],
   "source": [
    "tweets_df.original_author"
   ]
  },
  {
   "cell_type": "code",
   "execution_count": 19,
   "metadata": {},
   "outputs": [
    {
     "data": {
      "text/plain": [
       "TrumpThuan         116\n",
       "AarianNewsX         57\n",
       "CGMeifangZhang      43\n",
       "SoizaDavid          42\n",
       "doos94619918        36\n",
       "                  ... \n",
       "AoxiPRNew            1\n",
       "Eloy_Sauvan          1\n",
       "carnivorecabbie      1\n",
       "FarmSailing          1\n",
       "ZeitounRimal         1\n",
       "Name: original_author, Length: 4624, dtype: int64"
      ]
     },
     "execution_count": 19,
     "metadata": {},
     "output_type": "execute_result"
    }
   ],
   "source": [
    "tweets_df.original_author.value_counts()"
   ]
  },
  {
   "cell_type": "code",
   "execution_count": 61,
   "metadata": {},
   "outputs": [
    {
     "data": {
      "text/plain": [
       "<AxesSubplot:title={'center':'Top 10 Tweeters'}, xlabel='Twitter', ylabel='Number of tweets'>"
      ]
     },
     "execution_count": 61,
     "metadata": {},
     "output_type": "execute_result"
    },
    {
     "data": {
      "image/png": "[encoded data removed]",
      "text/plain": [
       "<Figure size 1080x720 with 1 Axes>"
      ]
     },
     "metadata": {
      "needs_background": "light"
     },
     "output_type": "display_data"
    }
   ],
   "source": [
    "# top 10 tweeters\n",
    "fig = plt.figure(figsize = (15,10))\n",
    "ax = fig.gca()\n",
    "ax.tick_params(axis='x', labelsize=10)\n",
    "ax.tick_params(axis='y', labelsize=10)\n",
    "ax.set_xlabel('Twitter', fontsize=10)\n",
    "ax.set_ylabel('Number of tweets' , fontsize=10)\n",
    "ax.set_title('Top 10 Tweeters', fontsize=10)\n",
    "tweets_df.original_author.value_counts()[:10].plot(ax=ax, kind='bar', color='#607c8e')"
   ]
  },
  {
   "cell_type": "markdown",
   "metadata": {},
   "source": [
    "#### locations"
   ]
  },
  {
   "cell_type": "code",
   "execution_count": 21,
   "metadata": {},
   "outputs": [
    {
     "data": {
      "text/plain": [
       "unknown                           2805\n",
       "Việt Nam                           116\n",
       "India                              107\n",
       "United States                       72\n",
       "Turn on 🔔                           57\n",
       "                                  ... \n",
       "New York, New York                   1\n",
       "Fontaines-Saint-Martin, France       1\n",
       "🇺🇲🇺🇲🇺🇲                               1\n",
       "Lisbon                               1\n",
       "🇺🇲🇷🇺🇺🇦🇫🇷🇦🇪🇮🇱🏳️‍🌈                     1\n",
       "Name: place, Length: 1809, dtype: int64"
      ]
     },
     "execution_count": 21,
     "metadata": {},
     "output_type": "execute_result"
    }
   ],
   "source": [
    "tweets_df.place.value_counts()"
   ]
  },
  {
   "cell_type": "markdown",
   "metadata": {},
   "source": [
    "Most locations are unknown"
   ]
  },
  {
   "cell_type": "code",
   "execution_count": 62,
   "metadata": {},
   "outputs": [
    {
     "data": {
      "text/plain": [
       "<AxesSubplot:title={'center':'Top 4 Locations'}, xlabel='Twitters', ylabel='Number of locations'>"
      ]
     },
     "execution_count": 62,
     "metadata": {},
     "output_type": "execute_result"
    },
    {
     "data": {
      "image/png": "[encoded data removed]",
      "text/plain": [
       "<Figure size 1080x720 with 1 Axes>"
      ]
     },
     "metadata": {
      "needs_background": "light"
     },
     "output_type": "display_data"
    }
   ],
   "source": [
    "# top 4 locations of users\n",
    "fig = plt.figure(figsize = (15,10))\n",
    "ax = fig.gca()\n",
    "ax.tick_params(axis='x', labelsize=10)\n",
    "ax.tick_params(axis='y', labelsize=10)\n",
    "ax.set_xlabel('Twitters', fontsize=10)\n",
    "ax.set_ylabel('Number of locations' , fontsize=10)\n",
    "ax.set_title('Top 4 Locations', fontsize=10)\n",
    "tweets_df.place.value_counts()[:4].plot(ax=ax, kind='bar', color='#607c8e')"
   ]
  },
  {
   "cell_type": "markdown",
   "metadata": {},
   "source": [
    "#### source"
   ]
  },
  {
   "cell_type": "code",
   "execution_count": 23,
   "metadata": {},
   "outputs": [
    {
     "data": {
      "text/plain": [
       "Twitter Web App        2717\n",
       "Twitter for Android    2360\n",
       "Twitter for iPhone     1531\n",
       "Twitter for iPad        191\n",
       "TweetDeck               127\n",
       "Name: source, dtype: int64"
      ]
     },
     "execution_count": 23,
     "metadata": {},
     "output_type": "execute_result"
    }
   ],
   "source": [
    "tweets_df[\"source\"].value_counts()[:5]"
   ]
  },
  {
   "cell_type": "markdown",
   "metadata": {},
   "source": [
    "The top five sources of tweets"
   ]
  },
  {
   "cell_type": "code",
   "execution_count": 63,
   "metadata": {},
   "outputs": [
    {
     "data": {
      "text/plain": [
       "<AxesSubplot:title={'center':'Top 5 sources'}, xlabel='Twitters', ylabel='Number of sources'>"
      ]
     },
     "execution_count": 63,
     "metadata": {},
     "output_type": "execute_result"
    },
    {
     "data": {
      "image/png": "[encoded data removed]",
      "text/plain": [
       "<Figure size 1080x720 with 1 Axes>"
      ]
     },
     "metadata": {
      "needs_background": "light"
     },
     "output_type": "display_data"
    }
   ],
   "source": [
    "# top 5 sources of users\n",
    "fig = plt.figure(figsize = (15,10))\n",
    "ax = fig.gca()\n",
    "ax.tick_params(axis='x', labelsize=10)\n",
    "ax.tick_params(axis='y', labelsize=10)\n",
    "ax.set_xlabel('Twitters', fontsize=10)\n",
    "ax.set_ylabel('Number of sources' , fontsize=10)\n",
    "ax.set_title('Top 5 sources', fontsize=10)\n",
    "tweets_df.source.value_counts()[:5].plot(ax=ax, kind='bar', color='#607c8e')"
   ]
  },
  {
   "cell_type": "markdown",
   "metadata": {},
   "source": [
    "#### Possibly sensitive"
   ]
  },
  {
   "cell_type": "code",
   "execution_count": 25,
   "metadata": {},
   "outputs": [
    {
     "data": {
      "text/plain": [
       "0.0        3866\n",
       "unknown    3463\n",
       "1.0         111\n",
       "Name: possibly_sensitive, dtype: int64"
      ]
     },
     "execution_count": 25,
     "metadata": {},
     "output_type": "execute_result"
    }
   ],
   "source": [
    "tweets_df[\"possibly_sensitive\"].value_counts()"
   ]
  },
  {
   "cell_type": "code",
   "execution_count": 68,
   "metadata": {},
   "outputs": [
    {
     "data": {
      "image/png": "[encoded data removed]",
      "text/plain": [
       "<Figure size 1080x720 with 1 Axes>"
      ]
     },
     "metadata": {},
     "output_type": "display_data"
    }
   ],
   "source": [
    "tweets_df[\"possibly_sensitive\"].value_counts().plot(kind=\"pie\", \n",
    "                                                    figsize= (15, 10), \n",
    "                                                    title='possibly sensitive',\n",
    "                                                    legend= True);"
   ]
  },
  {
   "cell_type": "markdown",
   "metadata": {},
   "source": [
    "#### Polarity and subjectivity"
   ]
  },
  {
   "cell_type": "code",
   "execution_count": 27,
   "metadata": {},
   "outputs": [
    {
     "data": {
      "text/plain": [
       " 0.000000    2894\n",
       "-0.100000     269\n",
       " 0.500000     225\n",
       "-0.050000     188\n",
       " 0.200000     178\n",
       "             ... \n",
       " 0.151667       1\n",
       "-0.190000       1\n",
       "-0.140136       1\n",
       " 0.013624       1\n",
       " 0.207143       1\n",
       "Name: polarity, Length: 760, dtype: int64"
      ]
     },
     "execution_count": 27,
     "metadata": {},
     "output_type": "execute_result"
    }
   ],
   "source": [
    "tweets_df[\"polarity\"].value_counts()"
   ]
  },
  {
   "cell_type": "markdown",
   "metadata": {},
   "source": [
    "##### Sentiments"
   ]
  },
  {
   "cell_type": "code",
   "execution_count": 72,
   "metadata": {},
   "outputs": [
    {
     "data": {
      "text/plain": [
       "<AxesSubplot:title={'center':'Sentiment analysis based on polarity'}, xlabel='Values', ylabel='Sentiments'>"
      ]
     },
     "execution_count": 72,
     "metadata": {},
     "output_type": "execute_result"
    },
    {
     "data": {
      "image/png": "[encoded data removed]",
      "text/plain": [
       "<Figure size 1080x720 with 1 Axes>"
      ]
     },
     "metadata": {
      "needs_background": "light"
     },
     "output_type": "display_data"
    }
   ],
   "source": [
    "pols = cleaner.text_category(series= tweets_df.polarity)\n",
    "pols = pd.Series(pols)\n",
    "\n",
    "# top 5 sources of users\n",
    "fig = plt.figure(figsize = (15,10))\n",
    "ax = fig.gca()\n",
    "ax.tick_params(axis='x', labelsize=10)\n",
    "ax.tick_params(axis='y', labelsize=10)\n",
    "ax.set_xlabel('Values', fontsize=10)\n",
    "ax.set_ylabel('Sentiments' , fontsize=10)\n",
    "ax.set_title('Sentiment analysis based on polarity', fontsize=10)\n",
    "pols.value_counts().plot(ax=ax, kind='bar', color='#607c8e')"
   ]
  },
  {
   "cell_type": "code",
   "execution_count": 29,
   "metadata": {},
   "outputs": [
    {
     "data": {
      "text/plain": [
       "0.000000    2314\n",
       "0.500000     435\n",
       "0.100000     292\n",
       "1.000000     255\n",
       "0.400000     231\n",
       "            ... \n",
       "0.301667       1\n",
       "0.500168       1\n",
       "0.417857       1\n",
       "0.343750       1\n",
       "0.421429       1\n",
       "Name: subjectivity, Length: 710, dtype: int64"
      ]
     },
     "execution_count": 29,
     "metadata": {},
     "output_type": "execute_result"
    }
   ],
   "source": [
    "tweets_df.subjectivity.value_counts()"
   ]
  },
  {
   "cell_type": "code",
   "execution_count": 73,
   "metadata": {},
   "outputs": [
    {
     "data": {
      "text/plain": [
       "<AxesSubplot:title={'center':'Subjectivity values'}, xlabel='Values', ylabel='Subjectivity'>"
      ]
     },
     "execution_count": 73,
     "metadata": {},
     "output_type": "execute_result"
    },
    {
     "data": {
      "image/png": "[encoded data removed]",
      "text/plain": [
       "<Figure size 1080x720 with 1 Axes>"
      ]
     },
     "metadata": {
      "needs_background": "light"
     },
     "output_type": "display_data"
    }
   ],
   "source": [
    "subs = cleaner.text_category(series= tweets_df.subjectivity)\n",
    "subs = pd.Series(subs)\n",
    "\n",
    "# top 5 sources of users\n",
    "fig = plt.figure(figsize = (15,10))\n",
    "ax = fig.gca()\n",
    "ax.tick_params(axis='x', labelsize=10)\n",
    "ax.tick_params(axis='y', labelsize=10)\n",
    "ax.set_xlabel('Values', fontsize=10)\n",
    "ax.set_ylabel('Subjectivity' , fontsize=10)\n",
    "ax.set_title('Subjectivity values', fontsize=10)\n",
    "subs.value_counts().plot(ax=ax, kind='bar', color='#607c8e')"
   ]
  },
  {
   "cell_type": "markdown",
   "metadata": {},
   "source": [
    "### Hashtags"
   ]
  },
  {
   "cell_type": "code",
   "execution_count": 31,
   "metadata": {},
   "outputs": [
    {
     "data": {
      "text/plain": [
       "0                [{'text': 'City', 'indices': [132, 137]}]\n",
       "1        [{'text': 'China', 'indices': [18, 24]}, {'tex...\n",
       "2           [{'text': 'XiJinping', 'indices': [127, 137]}]\n",
       "3              [{'text': 'XiJinping', 'indices': [9, 19]}]\n",
       "4                                                       []\n",
       "                               ...                        \n",
       "21974    [{'text': 'China', 'indices': [29, 35]}, {'tex...\n",
       "21987    [{'text': 'exactly', 'indices': [29, 37]}, {'t...\n",
       "21989    [{'text': 'Taiwan', 'indices': [168, 175]}, {'...\n",
       "21991    [{'text': 'China', 'indices': [17, 23]}, {'tex...\n",
       "21997            [{'text': 'Pelosi', 'indices': [16, 23]}]\n",
       "Name: hashtags, Length: 7440, dtype: object"
      ]
     },
     "execution_count": 31,
     "metadata": {},
     "output_type": "execute_result"
    }
   ],
   "source": [
    "tweets_df.hashtags"
   ]
  },
  {
   "cell_type": "code",
   "execution_count": 32,
   "metadata": {},
   "outputs": [
    {
     "data": {
      "text/plain": [
       "[]                                                                                                                                                                                                                                                                                          527\n",
       "[{'text': 'Taiwan', 'indices': [0, 7]}]                                                                                                                                                                                                                                                      62\n",
       "[{'text': 'ThankYou', 'indices': [0, 9]}, {'text': 'JoeBiden', 'indices': [20, 29]}, {'text': 'Nides', 'indices': [42, 48]}, {'text': 'Pelosi', 'indices': [63, 70]}, {'text': 'IsraelHasTheRightToDefendItself', 'indices': [72, 104]}, {'text': 'IAmAGoodJew', 'indices': [107, 119]}]     20\n",
       "[{'text': 'Taiwan', 'indices': [36, 43]}]                                                                                                                                                                                                                                                    20\n",
       "[{'text': 'Taiwan', 'indices': [44, 51]}]                                                                                                                                                                                                                                                    18\n",
       "                                                                                                                                                                                                                                                                                           ... \n",
       "[{'text': 'China', 'indices': [25, 31]}, {'text': 'Taiwan', 'indices': [32, 39]}, {'text': 'US', 'indices': [40, 43]}, {'text': 'TechStocks', 'indices': [111, 122]}]                                                                                                                         1\n",
       "[{'text': 'Taiwan', 'indices': [42, 49]}, {'text': 'Chinese', 'indices': [92, 100]}, {'text': 'France', 'indices': [115, 122]}]                                                                                                                                                               1\n",
       "[{'text': 'Baerbock', 'indices': [0, 9]}, {'text': 'BaerbockRuecktritt', 'indices': [10, 29]}, {'text': 'pelositaiwan', 'indices': [30, 43]}, {'text': 'pelosivisittotaiwan', 'indices': [44, 64]}, {'text': 'CNN', 'indices': [186, 190]}]                                                   1\n",
       "[{'text': 'BREAKING', 'indices': [14, 23]}, {'text': 'Taiwan', 'indices': [25, 32]}, {'text': 'Chinese', 'indices': [80, 88]}]                                                                                                                                                                1\n",
       "[{'text': 'China', 'indices': [17, 23]}, {'text': 'Taiwan', 'indices': [45, 52]}]                                                                                                                                                                                                             1\n",
       "Name: hashtags, Length: 5697, dtype: int64"
      ]
     },
     "execution_count": 32,
     "metadata": {},
     "output_type": "execute_result"
    }
   ],
   "source": [
    "tweets_df.hashtags.value_counts()"
   ]
  },
  {
   "cell_type": "markdown",
   "metadata": {},
   "source": [
    "As we can see there are null hashtags"
   ]
  },
  {
   "cell_type": "markdown",
   "metadata": {},
   "source": [
    "#### removing null hashtags"
   ]
  },
  {
   "cell_type": "code",
   "execution_count": 33,
   "metadata": {},
   "outputs": [
    {
     "data": {
      "text/plain": [
       "0                [{'text': 'City', 'indices': [132, 137]}]\n",
       "1        [{'text': 'China', 'indices': [18, 24]}, {'tex...\n",
       "2           [{'text': 'XiJinping', 'indices': [127, 137]}]\n",
       "3              [{'text': 'XiJinping', 'indices': [9, 19]}]\n",
       "4                                                       []\n",
       "                               ...                        \n",
       "21974    [{'text': 'China', 'indices': [29, 35]}, {'tex...\n",
       "21987    [{'text': 'exactly', 'indices': [29, 37]}, {'t...\n",
       "21989    [{'text': 'Taiwan', 'indices': [168, 175]}, {'...\n",
       "21991    [{'text': 'China', 'indices': [17, 23]}, {'tex...\n",
       "21997            [{'text': 'Pelosi', 'indices': [16, 23]}]\n",
       "Name: hashtags, Length: 7440, dtype: object"
      ]
     },
     "execution_count": 33,
     "metadata": {},
     "output_type": "execute_result"
    }
   ],
   "source": [
    "# take the rows from that have values in the hashtag columns\n",
    "hashtags_list_df = tweets_df.loc[tweets_df[\"hashtags\"] != \" \"]\n",
    "hashtags_list_df = hashtags_list_df['hashtags']\n",
    "hashtags_list_df"
   ]
  },
  {
   "cell_type": "markdown",
   "metadata": {},
   "source": [
    "#### flatten the hashtags"
   ]
  },
  {
   "cell_type": "code",
   "execution_count": 34,
   "metadata": {},
   "outputs": [
    {
     "data": {
      "text/html": [
       "<div>\n",
       "<style scoped>\n",
       "    .dataframe tbody tr th:only-of-type {\n",
       "        vertical-align: middle;\n",
       "    }\n",
       "\n",
       "    .dataframe tbody tr th {\n",
       "        vertical-align: top;\n",
       "    }\n",
       "\n",
       "    .dataframe thead th {\n",
       "        text-align: right;\n",
       "    }\n",
       "</style>\n",
       "<table border=\"1\" class=\"dataframe\">\n",
       "  <thead>\n",
       "    <tr style=\"text-align: right;\">\n",
       "      <th></th>\n",
       "      <th>hashtag</th>\n",
       "    </tr>\n",
       "  </thead>\n",
       "  <tbody>\n",
       "    <tr>\n",
       "      <th>0</th>\n",
       "      <td>City</td>\n",
       "    </tr>\n",
       "    <tr>\n",
       "      <th>1</th>\n",
       "      <td>China</td>\n",
       "    </tr>\n",
       "    <tr>\n",
       "      <th>2</th>\n",
       "      <td>Taiwan</td>\n",
       "    </tr>\n",
       "    <tr>\n",
       "      <th>3</th>\n",
       "      <td>XiJinping</td>\n",
       "    </tr>\n",
       "    <tr>\n",
       "      <th>4</th>\n",
       "      <td>XiJinping</td>\n",
       "    </tr>\n",
       "    <tr>\n",
       "      <th>...</th>\n",
       "      <td>...</td>\n",
       "    </tr>\n",
       "    <tr>\n",
       "      <th>27663</th>\n",
       "      <td>StandWithTaiwan</td>\n",
       "    </tr>\n",
       "    <tr>\n",
       "      <th>27664</th>\n",
       "      <td>DefendDemocracy</td>\n",
       "    </tr>\n",
       "    <tr>\n",
       "      <th>27665</th>\n",
       "      <td>China</td>\n",
       "    </tr>\n",
       "    <tr>\n",
       "      <th>27666</th>\n",
       "      <td>Taiwan</td>\n",
       "    </tr>\n",
       "    <tr>\n",
       "      <th>27667</th>\n",
       "      <td>Pelosi</td>\n",
       "    </tr>\n",
       "  </tbody>\n",
       "</table>\n",
       "<p>27668 rows × 1 columns</p>\n",
       "</div>"
      ],
      "text/plain": [
       "               hashtag\n",
       "0                 City\n",
       "1                China\n",
       "2               Taiwan\n",
       "3            XiJinping\n",
       "4            XiJinping\n",
       "...                ...\n",
       "27663  StandWithTaiwan\n",
       "27664  DefendDemocracy\n",
       "27665            China\n",
       "27666           Taiwan\n",
       "27667           Pelosi\n",
       "\n",
       "[27668 rows x 1 columns]"
      ]
     },
     "execution_count": 34,
     "metadata": {},
     "output_type": "execute_result"
    }
   ],
   "source": [
    "#create dataframe where each hashtag gets its own row\n",
    "flattened_hashtags = []\n",
    "for hashtags_list in hashtags_list_df:\n",
    "    for hash_list in hashtags_list:\n",
    "        # print(list(hash_list.values())[0])\n",
    "        flattened_hashtags.append(list(hash_list.values())[0])\n",
    "flattened_hashtags_df = pd.DataFrame(flattened_hashtags, columns=['hashtag'])\n",
    "flattened_hashtags_df"
   ]
  },
  {
   "cell_type": "code",
   "execution_count": 35,
   "metadata": {},
   "outputs": [
    {
     "data": {
      "text/plain": [
       "hashtag           \n",
       "Taiwan                5063\n",
       "China                 2439\n",
       "Pelosi                 957\n",
       "USA                    449\n",
       "Ukraine                369\n",
       "                      ... \n",
       "FreeBrittneyGriner       1\n",
       "Wars                     1\n",
       "FreeAssange              1\n",
       "Warstrategy              1\n",
       "펠로시는못말려                  1\n",
       "Length: 4717, dtype: int64"
      ]
     },
     "execution_count": 35,
     "metadata": {},
     "output_type": "execute_result"
    }
   ],
   "source": [
    "flattened_hashtags_df.value_counts()"
   ]
  },
  {
   "cell_type": "code",
   "execution_count": 69,
   "metadata": {},
   "outputs": [
    {
     "data": {
      "image/png": "[encoded data removed]",
      "text/plain": [
       "<Figure size 1080x720 with 1 Axes>"
      ]
     },
     "metadata": {},
     "output_type": "display_data"
    }
   ],
   "source": [
    "flattened_hashtags_df.value_counts().head(10).plot(kind=\"pie\", title='Top 10 hashtags',\n",
    "                                                    figsize= (15, 10), \n",
    "                                                    legend= True);"
   ]
  },
  {
   "cell_type": "markdown",
   "metadata": {},
   "source": [
    "#### User mentions"
   ]
  },
  {
   "cell_type": "code",
   "execution_count": 37,
   "metadata": {},
   "outputs": [
    {
     "data": {
      "text/plain": [
       "0        [{'screen_name': 'i_ameztoy', 'name': 'Iban Am...\n",
       "1        [{'screen_name': 'IndoPac_Info', 'name': 'Indo...\n",
       "2        [{'screen_name': 'ZelenskyyUa', 'name': 'Волод...\n",
       "3                                                       []\n",
       "4        [{'screen_name': 'ChinaUncensored', 'name': 'C...\n",
       "                               ...                        \n",
       "21974    [{'screen_name': 'metesohtaoglu', 'name': 'Met...\n",
       "21987    [{'screen_name': 'NEVERBOW', 'name': 'P K', 'i...\n",
       "21989    [{'screen_name': 'BBCNews', 'name': 'BBC News ...\n",
       "21991                                                   []\n",
       "21997    [{'screen_name': 'Reuters', 'name': 'Reuters',...\n",
       "Name: user_mentions, Length: 7440, dtype: object"
      ]
     },
     "execution_count": 37,
     "metadata": {},
     "output_type": "execute_result"
    }
   ],
   "source": [
    "tweets_df[\"user_mentions\"]"
   ]
  },
  {
   "cell_type": "code",
   "execution_count": 38,
   "metadata": {},
   "outputs": [
    {
     "data": {
      "text/plain": [
       "0        [{'screen_name': 'i_ameztoy', 'name': 'Iban Am...\n",
       "1        [{'screen_name': 'IndoPac_Info', 'name': 'Indo...\n",
       "2        [{'screen_name': 'ZelenskyyUa', 'name': 'Волод...\n",
       "3                                                       []\n",
       "4        [{'screen_name': 'ChinaUncensored', 'name': 'C...\n",
       "                               ...                        \n",
       "21974    [{'screen_name': 'metesohtaoglu', 'name': 'Met...\n",
       "21987    [{'screen_name': 'NEVERBOW', 'name': 'P K', 'i...\n",
       "21989    [{'screen_name': 'BBCNews', 'name': 'BBC News ...\n",
       "21991                                                   []\n",
       "21997    [{'screen_name': 'Reuters', 'name': 'Reuters',...\n",
       "Name: user_mentions, Length: 7440, dtype: object"
      ]
     },
     "execution_count": 38,
     "metadata": {},
     "output_type": "execute_result"
    }
   ],
   "source": [
    "# take the rows from that have values in the user_mentions columns\n",
    "user_mentions_list_df = tweets_df.loc[tweets_df[\"user_mentions\"] != \" \"]\n",
    "user_mentions_list_df = user_mentions_list_df['user_mentions']\n",
    "user_mentions_list_df"
   ]
  },
  {
   "cell_type": "markdown",
   "metadata": {},
   "source": [
    "#### flatten user mentions"
   ]
  },
  {
   "cell_type": "code",
   "execution_count": 39,
   "metadata": {},
   "outputs": [
    {
     "data": {
      "text/html": [
       "<div>\n",
       "<style scoped>\n",
       "    .dataframe tbody tr th:only-of-type {\n",
       "        vertical-align: middle;\n",
       "    }\n",
       "\n",
       "    .dataframe tbody tr th {\n",
       "        vertical-align: top;\n",
       "    }\n",
       "\n",
       "    .dataframe thead th {\n",
       "        text-align: right;\n",
       "    }\n",
       "</style>\n",
       "<table border=\"1\" class=\"dataframe\">\n",
       "  <thead>\n",
       "    <tr style=\"text-align: right;\">\n",
       "      <th></th>\n",
       "      <th>user_mentions</th>\n",
       "    </tr>\n",
       "  </thead>\n",
       "  <tbody>\n",
       "    <tr>\n",
       "      <th>0</th>\n",
       "      <td>i_ameztoy</td>\n",
       "    </tr>\n",
       "    <tr>\n",
       "      <th>1</th>\n",
       "      <td>IndoPac_Info</td>\n",
       "    </tr>\n",
       "    <tr>\n",
       "      <th>2</th>\n",
       "      <td>ZelenskyyUa</td>\n",
       "    </tr>\n",
       "    <tr>\n",
       "      <th>3</th>\n",
       "      <td>ChinaUncensored</td>\n",
       "    </tr>\n",
       "    <tr>\n",
       "      <th>4</th>\n",
       "      <td>benedictrogers</td>\n",
       "    </tr>\n",
       "    <tr>\n",
       "      <th>...</th>\n",
       "      <td>...</td>\n",
       "    </tr>\n",
       "    <tr>\n",
       "      <th>6516</th>\n",
       "      <td>metesohtaoglu</td>\n",
       "    </tr>\n",
       "    <tr>\n",
       "      <th>6517</th>\n",
       "      <td>NEVERBOW</td>\n",
       "    </tr>\n",
       "    <tr>\n",
       "      <th>6518</th>\n",
       "      <td>BBCNews</td>\n",
       "    </tr>\n",
       "    <tr>\n",
       "      <th>6519</th>\n",
       "      <td>SpeakerPelosi</td>\n",
       "    </tr>\n",
       "    <tr>\n",
       "      <th>6520</th>\n",
       "      <td>Reuters</td>\n",
       "    </tr>\n",
       "  </tbody>\n",
       "</table>\n",
       "<p>6521 rows × 1 columns</p>\n",
       "</div>"
      ],
      "text/plain": [
       "        user_mentions\n",
       "0           i_ameztoy\n",
       "1        IndoPac_Info\n",
       "2         ZelenskyyUa\n",
       "3     ChinaUncensored\n",
       "4      benedictrogers\n",
       "...               ...\n",
       "6516    metesohtaoglu\n",
       "6517         NEVERBOW\n",
       "6518          BBCNews\n",
       "6519    SpeakerPelosi\n",
       "6520          Reuters\n",
       "\n",
       "[6521 rows x 1 columns]"
      ]
     },
     "execution_count": 39,
     "metadata": {},
     "output_type": "execute_result"
    }
   ],
   "source": [
    "#create dataframe where each user_mention gets its own row\n",
    "flattened_user_mentions = []\n",
    "for user_mentions_list in user_mentions_list_df:\n",
    "    for user_list in user_mentions_list:\n",
    "        # print(list(user_list.values())[0])\n",
    "        flattened_user_mentions.append(list(user_list.values())[0])\n",
    "flattened_user_mentions_df = pd.DataFrame(flattened_user_mentions, columns=['user_mentions'])\n",
    "flattened_user_mentions_df"
   ]
  },
  {
   "cell_type": "code",
   "execution_count": 40,
   "metadata": {},
   "outputs": [
    {
     "data": {
      "text/plain": [
       "user_mentions  \n",
       "SpeakerPelosi      205\n",
       "iingwen            164\n",
       "CGMeifangZhang     119\n",
       "SpokespersonCHN     86\n",
       "IndoPac_Info        85\n",
       "                  ... \n",
       "Nausicaa4_           1\n",
       "NavalWarCollege      1\n",
       "NavitaSrikant        1\n",
       "Neloangelo314        1\n",
       "SenSchumer           1\n",
       "Length: 3003, dtype: int64"
      ]
     },
     "execution_count": 40,
     "metadata": {},
     "output_type": "execute_result"
    }
   ],
   "source": [
    "flattened_user_mentions_df.value_counts()"
   ]
  },
  {
   "cell_type": "code",
   "execution_count": 71,
   "metadata": {},
   "outputs": [
    {
     "data": {
      "image/png": "[encoded data removed]",
      "text/plain": [
       "<Figure size 1080x720 with 1 Axes>"
      ]
     },
     "metadata": {},
     "output_type": "display_data"
    }
   ],
   "source": [
    "flattened_user_mentions_df.value_counts().head(10).plot(kind=\"pie\", \n",
    "                                                        title='Top 10 user mentions',\n",
    "                                                        figsize= (15, 10), \n",
    "                                                        legend= True);"
   ]
  }
 ],
 "metadata": {
  "kernelspec": {
   "display_name": "Python 3.10.5 64-bit",
   "language": "python",
   "name": "python3"
  },
  "language_info": {
   "codemirror_mode": {
    "name": "ipython",
    "version": 3
   },
   "file_extension": ".py",
   "mimetype": "text/x-python",
   "name": "python",
   "nbconvert_exporter": "python",
   "pygments_lexer": "ipython3",
   "version": "3.10.5"
  },
  "orig_nbformat": 4,
  "vscode": {
   "interpreter": {
    "hash": "a265634967a27dd555e8346f2355ee703e655fd7f0a0d20c168527cd0a3d5707"
   }
  }
 },
 "nbformat": 4,
 "nbformat_minor": 2
}
