{
 "cells": [
  {
   "cell_type": "code",
   "execution_count": 1,
   "metadata": {},
   "outputs": [],
   "source": [
    "# imports\n",
    "# imports\n",
    "import pandas as pd\n",
    "import sys\n",
    "import matplotlib.pyplot as plt\n",
    "import seaborn as sns"
   ]
  },
  {
   "cell_type": "code",
   "execution_count": 2,
   "metadata": {},
   "outputs": [],
   "source": [
    "# import custom libraries and scripts\n",
    "# sys.path.append(os.path.abspath(os.path.join(\"../..\")))\n",
    "sys.path.append(\".\")\n",
    "sys.path.append(\"..\")\n",
    "\n",
    "from defaults import *\n",
    "from extract_dataframe import read_json\n",
    "from extract_dataframe import TweetDfExtractor\n",
    "from clean_tweets_dataframe import Clean_Tweets"
   ]
  },
  {
   "cell_type": "code",
   "execution_count": 3,
   "metadata": {},
   "outputs": [],
   "source": [
    "# read processed data set\n",
    "tweets_df = pd.read_csv('../data/clean_data.csv')"
   ]
  },
  {
   "cell_type": "code",
   "execution_count": 4,
   "metadata": {},
   "outputs": [
    {
     "data": {
      "text/html": [
       "<div>\n",
       "<style scoped>\n",
       "    .dataframe tbody tr th:only-of-type {\n",
       "        vertical-align: middle;\n",
       "    }\n",
       "\n",
       "    .dataframe tbody tr th {\n",
       "        vertical-align: top;\n",
       "    }\n",
       "\n",
       "    .dataframe thead th {\n",
       "        text-align: right;\n",
       "    }\n",
       "</style>\n",
       "<table border=\"1\" class=\"dataframe\">\n",
       "  <thead>\n",
       "    <tr style=\"text-align: right;\">\n",
       "      <th></th>\n",
       "      <th>created_at</th>\n",
       "      <th>source</th>\n",
       "      <th>original_text</th>\n",
       "      <th>polarity</th>\n",
       "      <th>subjectivity</th>\n",
       "      <th>lang</th>\n",
       "      <th>favorite_count</th>\n",
       "      <th>status_count</th>\n",
       "      <th>retweet_count</th>\n",
       "      <th>screen_name</th>\n",
       "      <th>original_author</th>\n",
       "      <th>followers_count</th>\n",
       "      <th>friends_count</th>\n",
       "      <th>possibly_sensitive</th>\n",
       "      <th>hashtags</th>\n",
       "      <th>user_mentions</th>\n",
       "      <th>place</th>\n",
       "    </tr>\n",
       "  </thead>\n",
       "  <tbody>\n",
       "    <tr>\n",
       "      <th>0</th>\n",
       "      <td>2022-08-07 22:31:20+00:00</td>\n",
       "      <td>Twitter for Android</td>\n",
       "      <td>RT @i_ameztoy: Extra random image (I):\\n\\nLets...</td>\n",
       "      <td>-1.250000e-01</td>\n",
       "      <td>0.190625</td>\n",
       "      <td>en</td>\n",
       "      <td>4</td>\n",
       "      <td>8097</td>\n",
       "      <td>2</td>\n",
       "      <td>i_ameztoy</td>\n",
       "      <td>i_ameztoy</td>\n",
       "      <td>20497</td>\n",
       "      <td>2621</td>\n",
       "      <td>unknown</td>\n",
       "      <td>[{'text': 'City', 'indices': [132, 137]}]</td>\n",
       "      <td>[{'screen_name': 'i_ameztoy', 'name': 'Iban Am...</td>\n",
       "      <td>unknown</td>\n",
       "    </tr>\n",
       "    <tr>\n",
       "      <th>1</th>\n",
       "      <td>2022-08-07 22:31:16+00:00</td>\n",
       "      <td>Twitter for Android</td>\n",
       "      <td>RT @IndoPac_Info: #China's media explains the ...</td>\n",
       "      <td>-1.000000e-01</td>\n",
       "      <td>0.100000</td>\n",
       "      <td>en</td>\n",
       "      <td>691</td>\n",
       "      <td>5831</td>\n",
       "      <td>201</td>\n",
       "      <td>ZIisq</td>\n",
       "      <td>ZIisq</td>\n",
       "      <td>65</td>\n",
       "      <td>272</td>\n",
       "      <td>unknown</td>\n",
       "      <td>[{'text': 'China', 'indices': [18, 24]}, {'tex...</td>\n",
       "      <td>[{'screen_name': 'IndoPac_Info', 'name': 'Indo...</td>\n",
       "      <td>unknown</td>\n",
       "    </tr>\n",
       "    <tr>\n",
       "      <th>2</th>\n",
       "      <td>2022-08-07 22:31:07+00:00</td>\n",
       "      <td>Twitter for Android</td>\n",
       "      <td>China even cut off communication, they don't a...</td>\n",
       "      <td>0.000000e+00</td>\n",
       "      <td>0.000000</td>\n",
       "      <td>en</td>\n",
       "      <td>0</td>\n",
       "      <td>1627</td>\n",
       "      <td>0</td>\n",
       "      <td>Fin21Free</td>\n",
       "      <td>Fin21Free</td>\n",
       "      <td>85</td>\n",
       "      <td>392</td>\n",
       "      <td>unknown</td>\n",
       "      <td>[{'text': 'XiJinping', 'indices': [127, 137]}]</td>\n",
       "      <td>[{'screen_name': 'ZelenskyyUa', 'name': 'Волод...</td>\n",
       "      <td>Netherlands</td>\n",
       "    </tr>\n",
       "    <tr>\n",
       "      <th>3</th>\n",
       "      <td>2022-08-07 22:31:06+00:00</td>\n",
       "      <td>Twitter for Android</td>\n",
       "      <td>Putin to #XiJinping : I told you my friend, Ta...</td>\n",
       "      <td>1.000000e-01</td>\n",
       "      <td>0.350000</td>\n",
       "      <td>en</td>\n",
       "      <td>0</td>\n",
       "      <td>1627</td>\n",
       "      <td>0</td>\n",
       "      <td>Fin21Free</td>\n",
       "      <td>Fin21Free</td>\n",
       "      <td>85</td>\n",
       "      <td>392</td>\n",
       "      <td>unknown</td>\n",
       "      <td>[{'text': 'XiJinping', 'indices': [9, 19]}]</td>\n",
       "      <td>[]</td>\n",
       "      <td>Netherlands</td>\n",
       "    </tr>\n",
       "    <tr>\n",
       "      <th>4</th>\n",
       "      <td>2022-08-07 22:31:04+00:00</td>\n",
       "      <td>Twitter for iPhone</td>\n",
       "      <td>RT @ChinaUncensored: I’m sorry, I thought Taiw...</td>\n",
       "      <td>-6.938894e-18</td>\n",
       "      <td>0.556250</td>\n",
       "      <td>en</td>\n",
       "      <td>1521</td>\n",
       "      <td>18958</td>\n",
       "      <td>381</td>\n",
       "      <td>VizziniDolores</td>\n",
       "      <td>VizziniDolores</td>\n",
       "      <td>910</td>\n",
       "      <td>2608</td>\n",
       "      <td>unknown</td>\n",
       "      <td>[]</td>\n",
       "      <td>[{'screen_name': 'ChinaUncensored', 'name': 'C...</td>\n",
       "      <td>Ayent, Schweiz</td>\n",
       "    </tr>\n",
       "    <tr>\n",
       "      <th>5</th>\n",
       "      <td>2022-08-07 22:31:02+00:00</td>\n",
       "      <td>Twitter for Android</td>\n",
       "      <td>RT @benedictrogers: We must not let this happe...</td>\n",
       "      <td>2.000000e-01</td>\n",
       "      <td>0.500000</td>\n",
       "      <td>en</td>\n",
       "      <td>116</td>\n",
       "      <td>48483</td>\n",
       "      <td>36</td>\n",
       "      <td>GraceCh15554845</td>\n",
       "      <td>GraceCh15554845</td>\n",
       "      <td>207</td>\n",
       "      <td>54</td>\n",
       "      <td>0.0</td>\n",
       "      <td>[{'text': 'Taiwan', 'indices': [84, 91]}]</td>\n",
       "      <td>[{'screen_name': 'benedictrogers', 'name': 'Be...</td>\n",
       "      <td>Melbourne, Victoria</td>\n",
       "    </tr>\n",
       "    <tr>\n",
       "      <th>6</th>\n",
       "      <td>2022-08-07 22:30:59+00:00</td>\n",
       "      <td>Twitter for Android</td>\n",
       "      <td>RT @TGTM_Official: What kind of country can co...</td>\n",
       "      <td>1.583333e-01</td>\n",
       "      <td>0.800000</td>\n",
       "      <td>en</td>\n",
       "      <td>1106</td>\n",
       "      <td>4173</td>\n",
       "      <td>411</td>\n",
       "      <td>Philipkuma1</td>\n",
       "      <td>Philipkuma1</td>\n",
       "      <td>12</td>\n",
       "      <td>264</td>\n",
       "      <td>unknown</td>\n",
       "      <td>[{'text': 'Taiwan', 'indices': [101, 108]}, {'...</td>\n",
       "      <td>[{'screen_name': 'TGTM_Official', 'name': 'The...</td>\n",
       "      <td>unknown</td>\n",
       "    </tr>\n",
       "    <tr>\n",
       "      <th>7</th>\n",
       "      <td>2022-08-07 22:30:59+00:00</td>\n",
       "      <td>Twitter for Android</td>\n",
       "      <td>RT @ChinaInfo777: #PinkFloyd singer Roger Wate...</td>\n",
       "      <td>0.000000e+00</td>\n",
       "      <td>0.000000</td>\n",
       "      <td>en</td>\n",
       "      <td>10</td>\n",
       "      <td>24102</td>\n",
       "      <td>5</td>\n",
       "      <td>nhohn2011</td>\n",
       "      <td>nhohn2011</td>\n",
       "      <td>870</td>\n",
       "      <td>508</td>\n",
       "      <td>unknown</td>\n",
       "      <td>[{'text': 'PinkFloyd', 'indices': [18, 28]}, {...</td>\n",
       "      <td>[{'screen_name': 'ChinaInfo777', 'name': 'Chin...</td>\n",
       "      <td>Florida, USA</td>\n",
       "    </tr>\n",
       "    <tr>\n",
       "      <th>8</th>\n",
       "      <td>2022-08-07 22:30:50+00:00</td>\n",
       "      <td>Twitter for Android</td>\n",
       "      <td>RT @AmbQinGang: China's SC&amp;amp;FM Wang Yi elab...</td>\n",
       "      <td>0.000000e+00</td>\n",
       "      <td>0.000000</td>\n",
       "      <td>en</td>\n",
       "      <td>1221</td>\n",
       "      <td>630</td>\n",
       "      <td>239</td>\n",
       "      <td>ClaudioColomaRI</td>\n",
       "      <td>ClaudioColomaRI</td>\n",
       "      <td>127</td>\n",
       "      <td>263</td>\n",
       "      <td>unknown</td>\n",
       "      <td>[{'text': 'Taiwan', 'indices': [80, 87]}]</td>\n",
       "      <td>[{'screen_name': 'AmbQinGang', 'name': 'Qin Ga...</td>\n",
       "      <td>El mundo periférico</td>\n",
       "    </tr>\n",
       "    <tr>\n",
       "      <th>9</th>\n",
       "      <td>2022-08-07 22:30:45+00:00</td>\n",
       "      <td>Twitter Web App</td>\n",
       "      <td>RT @CGMeifangZhang: Chinese ambassador to the ...</td>\n",
       "      <td>2.000000e-01</td>\n",
       "      <td>0.375000</td>\n",
       "      <td>en</td>\n",
       "      <td>49</td>\n",
       "      <td>107188</td>\n",
       "      <td>25</td>\n",
       "      <td>jmarzola1</td>\n",
       "      <td>jmarzola1</td>\n",
       "      <td>213</td>\n",
       "      <td>877</td>\n",
       "      <td>unknown</td>\n",
       "      <td>[{'text': 'USA', 'indices': [66, 70]}, {'text'...</td>\n",
       "      <td>[{'screen_name': 'CGMeifangZhang', 'name': 'Zh...</td>\n",
       "      <td>unknown</td>\n",
       "    </tr>\n",
       "  </tbody>\n",
       "</table>\n",
       "</div>"
      ],
      "text/plain": [
       "                  created_at               source  \\\n",
       "0  2022-08-07 22:31:20+00:00  Twitter for Android   \n",
       "1  2022-08-07 22:31:16+00:00  Twitter for Android   \n",
       "2  2022-08-07 22:31:07+00:00  Twitter for Android   \n",
       "3  2022-08-07 22:31:06+00:00  Twitter for Android   \n",
       "4  2022-08-07 22:31:04+00:00   Twitter for iPhone   \n",
       "5  2022-08-07 22:31:02+00:00  Twitter for Android   \n",
       "6  2022-08-07 22:30:59+00:00  Twitter for Android   \n",
       "7  2022-08-07 22:30:59+00:00  Twitter for Android   \n",
       "8  2022-08-07 22:30:50+00:00  Twitter for Android   \n",
       "9  2022-08-07 22:30:45+00:00      Twitter Web App   \n",
       "\n",
       "                                       original_text      polarity  \\\n",
       "0  RT @i_ameztoy: Extra random image (I):\\n\\nLets... -1.250000e-01   \n",
       "1  RT @IndoPac_Info: #China's media explains the ... -1.000000e-01   \n",
       "2  China even cut off communication, they don't a...  0.000000e+00   \n",
       "3  Putin to #XiJinping : I told you my friend, Ta...  1.000000e-01   \n",
       "4  RT @ChinaUncensored: I’m sorry, I thought Taiw... -6.938894e-18   \n",
       "5  RT @benedictrogers: We must not let this happe...  2.000000e-01   \n",
       "6  RT @TGTM_Official: What kind of country can co...  1.583333e-01   \n",
       "7  RT @ChinaInfo777: #PinkFloyd singer Roger Wate...  0.000000e+00   \n",
       "8  RT @AmbQinGang: China's SC&amp;FM Wang Yi elab...  0.000000e+00   \n",
       "9  RT @CGMeifangZhang: Chinese ambassador to the ...  2.000000e-01   \n",
       "\n",
       "   subjectivity lang  favorite_count  status_count  retweet_count  \\\n",
       "0      0.190625   en               4          8097              2   \n",
       "1      0.100000   en             691          5831            201   \n",
       "2      0.000000   en               0          1627              0   \n",
       "3      0.350000   en               0          1627              0   \n",
       "4      0.556250   en            1521         18958            381   \n",
       "5      0.500000   en             116         48483             36   \n",
       "6      0.800000   en            1106          4173            411   \n",
       "7      0.000000   en              10         24102              5   \n",
       "8      0.000000   en            1221           630            239   \n",
       "9      0.375000   en              49        107188             25   \n",
       "\n",
       "       screen_name  original_author  followers_count  friends_count  \\\n",
       "0        i_ameztoy        i_ameztoy            20497           2621   \n",
       "1            ZIisq            ZIisq               65            272   \n",
       "2        Fin21Free        Fin21Free               85            392   \n",
       "3        Fin21Free        Fin21Free               85            392   \n",
       "4   VizziniDolores   VizziniDolores              910           2608   \n",
       "5  GraceCh15554845  GraceCh15554845              207             54   \n",
       "6      Philipkuma1      Philipkuma1               12            264   \n",
       "7        nhohn2011        nhohn2011              870            508   \n",
       "8  ClaudioColomaRI  ClaudioColomaRI              127            263   \n",
       "9        jmarzola1        jmarzola1              213            877   \n",
       "\n",
       "  possibly_sensitive                                           hashtags  \\\n",
       "0            unknown          [{'text': 'City', 'indices': [132, 137]}]   \n",
       "1            unknown  [{'text': 'China', 'indices': [18, 24]}, {'tex...   \n",
       "2            unknown     [{'text': 'XiJinping', 'indices': [127, 137]}]   \n",
       "3            unknown        [{'text': 'XiJinping', 'indices': [9, 19]}]   \n",
       "4            unknown                                                 []   \n",
       "5                0.0          [{'text': 'Taiwan', 'indices': [84, 91]}]   \n",
       "6            unknown  [{'text': 'Taiwan', 'indices': [101, 108]}, {'...   \n",
       "7            unknown  [{'text': 'PinkFloyd', 'indices': [18, 28]}, {...   \n",
       "8            unknown          [{'text': 'Taiwan', 'indices': [80, 87]}]   \n",
       "9            unknown  [{'text': 'USA', 'indices': [66, 70]}, {'text'...   \n",
       "\n",
       "                                       user_mentions                place  \n",
       "0  [{'screen_name': 'i_ameztoy', 'name': 'Iban Am...              unknown  \n",
       "1  [{'screen_name': 'IndoPac_Info', 'name': 'Indo...              unknown  \n",
       "2  [{'screen_name': 'ZelenskyyUa', 'name': 'Волод...          Netherlands  \n",
       "3                                                 []          Netherlands  \n",
       "4  [{'screen_name': 'ChinaUncensored', 'name': 'C...       Ayent, Schweiz  \n",
       "5  [{'screen_name': 'benedictrogers', 'name': 'Be...  Melbourne, Victoria  \n",
       "6  [{'screen_name': 'TGTM_Official', 'name': 'The...              unknown  \n",
       "7  [{'screen_name': 'ChinaInfo777', 'name': 'Chin...         Florida, USA  \n",
       "8  [{'screen_name': 'AmbQinGang', 'name': 'Qin Ga...  El mundo periférico  \n",
       "9  [{'screen_name': 'CGMeifangZhang', 'name': 'Zh...              unknown  "
      ]
     },
     "execution_count": 4,
     "metadata": {},
     "output_type": "execute_result"
    }
   ],
   "source": [
    "tweets_df.head(10)"
   ]
  },
  {
   "cell_type": "code",
   "execution_count": 5,
   "metadata": {},
   "outputs": [
    {
     "name": "stdout",
     "output_type": "stream",
     "text": [
      "Automation in Action...!!!\n"
     ]
    }
   ],
   "source": [
    "cleaner = Clean_Tweets(tweets_df.copy())"
   ]
  },
  {
   "cell_type": "markdown",
   "metadata": {},
   "source": [
    "### Making explorations"
   ]
  },
  {
   "cell_type": "code",
   "execution_count": 6,
   "metadata": {},
   "outputs": [
    {
     "data": {
      "text/plain": [
       "(7440, 17)"
      ]
     },
     "execution_count": 6,
     "metadata": {},
     "output_type": "execute_result"
    }
   ],
   "source": [
    "# shape of dataframe\n",
    "tweets_df.shape"
   ]
  },
  {
   "cell_type": "code",
   "execution_count": 7,
   "metadata": {},
   "outputs": [
    {
     "name": "stdout",
     "output_type": "stream",
     "text": [
      "<class 'pandas.core.frame.DataFrame'>\n",
      "RangeIndex: 7440 entries, 0 to 7439\n",
      "Data columns (total 17 columns):\n",
      " #   Column              Non-Null Count  Dtype  \n",
      "---  ------              --------------  -----  \n",
      " 0   created_at          7440 non-null   object \n",
      " 1   source              7440 non-null   object \n",
      " 2   original_text       7440 non-null   object \n",
      " 3   polarity            7440 non-null   float64\n",
      " 4   subjectivity        7440 non-null   float64\n",
      " 5   lang                7440 non-null   object \n",
      " 6   favorite_count      7440 non-null   int64  \n",
      " 7   status_count        7440 non-null   int64  \n",
      " 8   retweet_count       7440 non-null   int64  \n",
      " 9   screen_name         7440 non-null   object \n",
      " 10  original_author     7440 non-null   object \n",
      " 11  followers_count     7440 non-null   int64  \n",
      " 12  friends_count       7440 non-null   int64  \n",
      " 13  possibly_sensitive  7440 non-null   object \n",
      " 14  hashtags            7440 non-null   object \n",
      " 15  user_mentions       7440 non-null   object \n",
      " 16  place               7440 non-null   object \n",
      "dtypes: float64(2), int64(5), object(10)\n",
      "memory usage: 988.2+ KB\n"
     ]
    }
   ],
   "source": [
    "tweets_df.info()"
   ]
  },
  {
   "cell_type": "code",
   "execution_count": 8,
   "metadata": {},
   "outputs": [
    {
     "data": {
      "text/plain": [
       "created_at            0\n",
       "source                0\n",
       "original_text         0\n",
       "polarity              0\n",
       "subjectivity          0\n",
       "lang                  0\n",
       "favorite_count        0\n",
       "status_count          0\n",
       "retweet_count         0\n",
       "screen_name           0\n",
       "original_author       0\n",
       "followers_count       0\n",
       "friends_count         0\n",
       "possibly_sensitive    0\n",
       "hashtags              0\n",
       "user_mentions         0\n",
       "place                 0\n",
       "dtype: int64"
      ]
     },
     "execution_count": 8,
     "metadata": {},
     "output_type": "execute_result"
    }
   ],
   "source": [
    "tweets_df.isna().sum()"
   ]
  },
  {
   "cell_type": "markdown",
   "metadata": {},
   "source": [
    "No missing values"
   ]
  },
  {
   "cell_type": "code",
   "execution_count": 9,
   "metadata": {},
   "outputs": [
    {
     "data": {
      "text/html": [
       "<div>\n",
       "<style scoped>\n",
       "    .dataframe tbody tr th:only-of-type {\n",
       "        vertical-align: middle;\n",
       "    }\n",
       "\n",
       "    .dataframe tbody tr th {\n",
       "        vertical-align: top;\n",
       "    }\n",
       "\n",
       "    .dataframe thead th {\n",
       "        text-align: right;\n",
       "    }\n",
       "</style>\n",
       "<table border=\"1\" class=\"dataframe\">\n",
       "  <thead>\n",
       "    <tr style=\"text-align: right;\">\n",
       "      <th></th>\n",
       "      <th>polarity</th>\n",
       "      <th>subjectivity</th>\n",
       "      <th>favorite_count</th>\n",
       "      <th>status_count</th>\n",
       "      <th>retweet_count</th>\n",
       "      <th>followers_count</th>\n",
       "      <th>friends_count</th>\n",
       "    </tr>\n",
       "  </thead>\n",
       "  <tbody>\n",
       "    <tr>\n",
       "      <th>count</th>\n",
       "      <td>7440.000000</td>\n",
       "      <td>7440.000000</td>\n",
       "      <td>7440.000000</td>\n",
       "      <td>7.440000e+03</td>\n",
       "      <td>7440.000000</td>\n",
       "      <td>7.440000e+03</td>\n",
       "      <td>7440.000000</td>\n",
       "    </tr>\n",
       "    <tr>\n",
       "      <th>mean</th>\n",
       "      <td>0.056783</td>\n",
       "      <td>0.295638</td>\n",
       "      <td>203.351210</td>\n",
       "      <td>4.900565e+04</td>\n",
       "      <td>38.713172</td>\n",
       "      <td>4.107761e+04</td>\n",
       "      <td>1715.558871</td>\n",
       "    </tr>\n",
       "    <tr>\n",
       "      <th>std</th>\n",
       "      <td>0.230156</td>\n",
       "      <td>0.287805</td>\n",
       "      <td>1655.690148</td>\n",
       "      <td>1.432954e+05</td>\n",
       "      <td>326.757025</td>\n",
       "      <td>4.910108e+05</td>\n",
       "      <td>5305.897528</td>\n",
       "    </tr>\n",
       "    <tr>\n",
       "      <th>min</th>\n",
       "      <td>-1.000000</td>\n",
       "      <td>0.000000</td>\n",
       "      <td>0.000000</td>\n",
       "      <td>1.000000e+00</td>\n",
       "      <td>0.000000</td>\n",
       "      <td>0.000000e+00</td>\n",
       "      <td>0.000000</td>\n",
       "    </tr>\n",
       "    <tr>\n",
       "      <th>25%</th>\n",
       "      <td>0.000000</td>\n",
       "      <td>0.000000</td>\n",
       "      <td>0.000000</td>\n",
       "      <td>1.549250e+03</td>\n",
       "      <td>0.000000</td>\n",
       "      <td>7.275000e+01</td>\n",
       "      <td>106.000000</td>\n",
       "    </tr>\n",
       "    <tr>\n",
       "      <th>50%</th>\n",
       "      <td>0.000000</td>\n",
       "      <td>0.250000</td>\n",
       "      <td>0.000000</td>\n",
       "      <td>7.904000e+03</td>\n",
       "      <td>0.000000</td>\n",
       "      <td>3.670000e+02</td>\n",
       "      <td>440.000000</td>\n",
       "    </tr>\n",
       "    <tr>\n",
       "      <th>75%</th>\n",
       "      <td>0.136364</td>\n",
       "      <td>0.500000</td>\n",
       "      <td>4.000000</td>\n",
       "      <td>3.510900e+04</td>\n",
       "      <td>2.000000</td>\n",
       "      <td>1.833000e+03</td>\n",
       "      <td>1505.000000</td>\n",
       "    </tr>\n",
       "    <tr>\n",
       "      <th>max</th>\n",
       "      <td>1.000000</td>\n",
       "      <td>1.000000</td>\n",
       "      <td>65170.000000</td>\n",
       "      <td>4.108317e+06</td>\n",
       "      <td>17409.000000</td>\n",
       "      <td>1.449852e+07</td>\n",
       "      <td>208360.000000</td>\n",
       "    </tr>\n",
       "  </tbody>\n",
       "</table>\n",
       "</div>"
      ],
      "text/plain": [
       "          polarity  subjectivity  favorite_count  status_count  retweet_count  \\\n",
       "count  7440.000000   7440.000000     7440.000000  7.440000e+03    7440.000000   \n",
       "mean      0.056783      0.295638      203.351210  4.900565e+04      38.713172   \n",
       "std       0.230156      0.287805     1655.690148  1.432954e+05     326.757025   \n",
       "min      -1.000000      0.000000        0.000000  1.000000e+00       0.000000   \n",
       "25%       0.000000      0.000000        0.000000  1.549250e+03       0.000000   \n",
       "50%       0.000000      0.250000        0.000000  7.904000e+03       0.000000   \n",
       "75%       0.136364      0.500000        4.000000  3.510900e+04       2.000000   \n",
       "max       1.000000      1.000000    65170.000000  4.108317e+06   17409.000000   \n",
       "\n",
       "       followers_count  friends_count  \n",
       "count     7.440000e+03    7440.000000  \n",
       "mean      4.107761e+04    1715.558871  \n",
       "std       4.910108e+05    5305.897528  \n",
       "min       0.000000e+00       0.000000  \n",
       "25%       7.275000e+01     106.000000  \n",
       "50%       3.670000e+02     440.000000  \n",
       "75%       1.833000e+03    1505.000000  \n",
       "max       1.449852e+07  208360.000000  "
      ]
     },
     "execution_count": 9,
     "metadata": {},
     "output_type": "execute_result"
    }
   ],
   "source": [
    "# stats about numerical columns\n",
    "tweets_df.describe()"
   ]
  },
  {
   "cell_type": "markdown",
   "metadata": {},
   "source": [
    "#### Univariate"
   ]
  },
  {
   "cell_type": "code",
   "execution_count": 10,
   "metadata": {},
   "outputs": [
    {
     "data": {
      "text/plain": [
       "0            i_ameztoy\n",
       "1                ZIisq\n",
       "2            Fin21Free\n",
       "3            Fin21Free\n",
       "4       VizziniDolores\n",
       "             ...      \n",
       "7435     PelosiLibArmy\n",
       "7436    SonnyMullins13\n",
       "7437      TECO_Toronto\n",
       "7438       samserjio93\n",
       "7439      ZeitounRimal\n",
       "Name: original_author, Length: 7440, dtype: object"
      ]
     },
     "execution_count": 10,
     "metadata": {},
     "output_type": "execute_result"
    }
   ],
   "source": [
    "tweets_df.original_author"
   ]
  },
  {
   "cell_type": "code",
   "execution_count": 11,
   "metadata": {},
   "outputs": [
    {
     "data": {
      "text/plain": [
       "TrumpThuan         116\n",
       "AarianNewsX         57\n",
       "CGMeifangZhang      43\n",
       "SoizaDavid          42\n",
       "doos94619918        36\n",
       "                  ... \n",
       "AoxiPRNew            1\n",
       "Eloy_Sauvan          1\n",
       "carnivorecabbie      1\n",
       "FarmSailing          1\n",
       "ZeitounRimal         1\n",
       "Name: original_author, Length: 4624, dtype: int64"
      ]
     },
     "execution_count": 11,
     "metadata": {},
     "output_type": "execute_result"
    }
   ],
   "source": [
    "tweets_df.original_author.value_counts()"
   ]
  },
  {
   "cell_type": "code",
   "execution_count": 12,
   "metadata": {},
   "outputs": [
    {
     "data": {
      "text/plain": [
       "<AxesSubplot:title={'center':'Top 10 Tweeters'}, xlabel='Twitter', ylabel='Number of tweets'>"
      ]
     },
     "execution_count": 12,
     "metadata": {},
     "output_type": "execute_result"
    },
    {
     "data": {
      "image/png": "[encoded data removed]",
      "text/plain": [
       "<Figure size 432x288 with 1 Axes>"
      ]
     },
     "metadata": {
      "needs_background": "light"
     },
     "output_type": "display_data"
    }
   ],
   "source": [
    "fig, ax = plt.subplots()\n",
    "ax.tick_params(axis='x', labelsize=10)\n",
    "ax.tick_params(axis='y', labelsize=10)\n",
    "ax.set_xlabel('Twitter', fontsize=10)\n",
    "ax.set_ylabel('Number of tweets' , fontsize=10)\n",
    "ax.set_title('Top 10 Tweeters', fontsize=10)\n",
    "tweets_df.original_author.value_counts()[:10].plot(ax=ax, kind='bar', color='orange')"
   ]
  },
  {
   "cell_type": "markdown",
   "metadata": {},
   "source": [
    "#### locations"
   ]
  },
  {
   "cell_type": "code",
   "execution_count": 13,
   "metadata": {},
   "outputs": [
    {
     "data": {
      "text/plain": [
       "unknown                           2805\n",
       "Việt Nam                           116\n",
       "India                              107\n",
       "United States                       72\n",
       "Turn on 🔔                           57\n",
       "                                  ... \n",
       "New York, New York                   1\n",
       "Fontaines-Saint-Martin, France       1\n",
       "🇺🇲🇺🇲🇺🇲                               1\n",
       "Lisbon                               1\n",
       "🇺🇲🇷🇺🇺🇦🇫🇷🇦🇪🇮🇱🏳️‍🌈                     1\n",
       "Name: place, Length: 1809, dtype: int64"
      ]
     },
     "execution_count": 13,
     "metadata": {},
     "output_type": "execute_result"
    }
   ],
   "source": [
    "tweets_df.place.value_counts()"
   ]
  },
  {
   "cell_type": "markdown",
   "metadata": {},
   "source": [
    "Most locations are unknown"
   ]
  },
  {
   "cell_type": "code",
   "execution_count": 14,
   "metadata": {},
   "outputs": [
    {
     "data": {
      "text/plain": [
       "<AxesSubplot:title={'center':'Top 4 Locations'}, xlabel='Twitters', ylabel='Number of locations'>"
      ]
     },
     "execution_count": 14,
     "metadata": {},
     "output_type": "execute_result"
    },
    {
     "data": {
      "image/png": "[encoded data removed]",
      "text/plain": [
       "<Figure size 432x288 with 1 Axes>"
      ]
     },
     "metadata": {
      "needs_background": "light"
     },
     "output_type": "display_data"
    }
   ],
   "source": [
    "# top 4 locations of users\n",
    "fig, ax = plt.subplots()\n",
    "ax.tick_params(axis='x', labelsize=10)\n",
    "ax.tick_params(axis='y', labelsize=10)\n",
    "ax.set_xlabel('Twitters', fontsize=10)\n",
    "ax.set_ylabel('Number of locations' , fontsize=10)\n",
    "ax.set_title('Top 4 Locations', fontsize=10)\n",
    "tweets_df.place.value_counts()[:4].plot(ax=ax, kind='bar', color='orange')"
   ]
  },
  {
   "cell_type": "markdown",
   "metadata": {},
   "source": [
    "#### source"
   ]
  },
  {
   "cell_type": "code",
   "execution_count": 15,
   "metadata": {},
   "outputs": [
    {
     "data": {
      "text/plain": [
       "Twitter Web App        2717\n",
       "Twitter for Android    2360\n",
       "Twitter for iPhone     1531\n",
       "Twitter for iPad        191\n",
       "TweetDeck               127\n",
       "Name: source, dtype: int64"
      ]
     },
     "execution_count": 15,
     "metadata": {},
     "output_type": "execute_result"
    }
   ],
   "source": [
    "tweets_df[\"source\"].value_counts()[:5]"
   ]
  },
  {
   "cell_type": "markdown",
   "metadata": {},
   "source": [
    "The top five sources of tweets"
   ]
  },
  {
   "cell_type": "code",
   "execution_count": 16,
   "metadata": {},
   "outputs": [
    {
     "data": {
      "text/plain": [
       "<AxesSubplot:title={'center':'Top 5 sources'}, xlabel='Twitters', ylabel='Number of sources'>"
      ]
     },
     "execution_count": 16,
     "metadata": {},
     "output_type": "execute_result"
    },
    {
     "data": {
      "image/png": "[encoded data removed]",
      "text/plain": [
       "<Figure size 432x288 with 1 Axes>"
      ]
     },
     "metadata": {
      "needs_background": "light"
     },
     "output_type": "display_data"
    }
   ],
   "source": [
    "# top 5 sources of users\n",
    "fig, ax = plt.subplots()\n",
    "ax.tick_params(axis='x', labelsize=10)\n",
    "ax.tick_params(axis='y', labelsize=10)\n",
    "ax.set_xlabel('Twitters', fontsize=10)\n",
    "ax.set_ylabel('Number of sources' , fontsize=10)\n",
    "ax.set_title('Top 5 sources', fontsize=10)\n",
    "tweets_df.source.value_counts()[:5].plot(ax=ax, kind='bar')"
   ]
  },
  {
   "cell_type": "markdown",
   "metadata": {},
   "source": [
    "#### Possibly sensitive"
   ]
  },
  {
   "cell_type": "code",
   "execution_count": 17,
   "metadata": {},
   "outputs": [
    {
     "data": {
      "text/plain": [
       "0.0        3866\n",
       "unknown    3463\n",
       "1.0         111\n",
       "Name: possibly_sensitive, dtype: int64"
      ]
     },
     "execution_count": 17,
     "metadata": {},
     "output_type": "execute_result"
    }
   ],
   "source": [
    "tweets_df[\"possibly_sensitive\"].value_counts()"
   ]
  },
  {
   "cell_type": "code",
   "execution_count": 18,
   "metadata": {},
   "outputs": [
    {
     "data": {
      "image/png": "[encoded data removed]",
      "text/plain": [
       "<Figure size 432x288 with 1 Axes>"
      ]
     },
     "metadata": {},
     "output_type": "display_data"
    }
   ],
   "source": [
    "tweets_df[\"possibly_sensitive\"].value_counts().plot(kind=\"pie\");"
   ]
  },
  {
   "cell_type": "markdown",
   "metadata": {},
   "source": [
    "#### Polarity and subjectivity"
   ]
  },
  {
   "cell_type": "code",
   "execution_count": 19,
   "metadata": {},
   "outputs": [
    {
     "data": {
      "text/plain": [
       " 0.000000    2894\n",
       "-0.100000     269\n",
       " 0.500000     225\n",
       "-0.050000     188\n",
       " 0.200000     178\n",
       "             ... \n",
       " 0.151667       1\n",
       "-0.190000       1\n",
       "-0.140136       1\n",
       " 0.013624       1\n",
       " 0.207143       1\n",
       "Name: polarity, Length: 760, dtype: int64"
      ]
     },
     "execution_count": 19,
     "metadata": {},
     "output_type": "execute_result"
    }
   ],
   "source": [
    "tweets_df[\"polarity\"].value_counts()"
   ]
  },
  {
   "cell_type": "markdown",
   "metadata": {},
   "source": [
    "##### Sentiments"
   ]
  },
  {
   "cell_type": "code",
   "execution_count": 20,
   "metadata": {},
   "outputs": [
    {
     "data": {
      "text/plain": [
       "<AxesSubplot:title={'center':'Sentiment analysis based on polarity'}, xlabel='Values', ylabel='Sentiments'>"
      ]
     },
     "execution_count": 20,
     "metadata": {},
     "output_type": "execute_result"
    },
    {
     "data": {
      "image/png": "[encoded data removed]",
      "text/plain": [
       "<Figure size 432x288 with 1 Axes>"
      ]
     },
     "metadata": {
      "needs_background": "light"
     },
     "output_type": "display_data"
    }
   ],
   "source": [
    "pols = cleaner.text_category(series= tweets_df.polarity)\n",
    "pols = pd.Series(pols)\n",
    "\n",
    "# top 5 sources of users\n",
    "fig, ax = plt.subplots()\n",
    "ax.tick_params(axis='x', labelsize=10)\n",
    "ax.tick_params(axis='y', labelsize=10)\n",
    "ax.set_xlabel('Values', fontsize=10)\n",
    "ax.set_ylabel('Sentiments' , fontsize=10)\n",
    "ax.set_title('Sentiment analysis based on polarity', fontsize=10)\n",
    "pols.value_counts().plot(ax=ax, kind='bar')"
   ]
  },
  {
   "cell_type": "code",
   "execution_count": 21,
   "metadata": {},
   "outputs": [
    {
     "data": {
      "text/plain": [
       "0.000000    2314\n",
       "0.500000     435\n",
       "0.100000     292\n",
       "1.000000     255\n",
       "0.400000     231\n",
       "            ... \n",
       "0.301667       1\n",
       "0.500168       1\n",
       "0.417857       1\n",
       "0.343750       1\n",
       "0.421429       1\n",
       "Name: subjectivity, Length: 710, dtype: int64"
      ]
     },
     "execution_count": 21,
     "metadata": {},
     "output_type": "execute_result"
    }
   ],
   "source": [
    "tweets_df.subjectivity.value_counts()"
   ]
  },
  {
   "cell_type": "code",
   "execution_count": 22,
   "metadata": {},
   "outputs": [
    {
     "data": {
      "text/plain": [
       "<AxesSubplot:title={'center':'Subjectivity values'}, xlabel='Values', ylabel='Subjectivity'>"
      ]
     },
     "execution_count": 22,
     "metadata": {},
     "output_type": "execute_result"
    },
    {
     "data": {
      "image/png": "[encoded data removed]",
      "text/plain": [
       "<Figure size 432x288 with 1 Axes>"
      ]
     },
     "metadata": {
      "needs_background": "light"
     },
     "output_type": "display_data"
    }
   ],
   "source": [
    "subs = cleaner.text_category(series= tweets_df.subjectivity)\n",
    "subs = pd.Series(subs)\n",
    "\n",
    "# top 5 sources of users\n",
    "fig, ax = plt.subplots()\n",
    "ax.tick_params(axis='x', labelsize=10)\n",
    "ax.tick_params(axis='y', labelsize=10)\n",
    "ax.set_xlabel('Values', fontsize=10)\n",
    "ax.set_ylabel('Subjectivity' , fontsize=10)\n",
    "ax.set_title('Subjectivity values', fontsize=10)\n",
    "subs.value_counts().plot(ax=ax, kind='bar')"
   ]
  },
  {
   "cell_type": "markdown",
   "metadata": {},
   "source": [
    "### Hashtags"
   ]
  },
  {
   "cell_type": "code",
   "execution_count": 23,
   "metadata": {},
   "outputs": [
    {
     "data": {
      "text/plain": [
       "0               [{'text': 'City', 'indices': [132, 137]}]\n",
       "1       [{'text': 'China', 'indices': [18, 24]}, {'tex...\n",
       "2          [{'text': 'XiJinping', 'indices': [127, 137]}]\n",
       "3             [{'text': 'XiJinping', 'indices': [9, 19]}]\n",
       "4                                                      []\n",
       "                              ...                        \n",
       "7435    [{'text': 'China', 'indices': [29, 35]}, {'tex...\n",
       "7436    [{'text': 'exactly', 'indices': [29, 37]}, {'t...\n",
       "7437    [{'text': 'Taiwan', 'indices': [168, 175]}, {'...\n",
       "7438    [{'text': 'China', 'indices': [17, 23]}, {'tex...\n",
       "7439            [{'text': 'Pelosi', 'indices': [16, 23]}]\n",
       "Name: hashtags, Length: 7440, dtype: object"
      ]
     },
     "execution_count": 23,
     "metadata": {},
     "output_type": "execute_result"
    }
   ],
   "source": [
    "tweets_df.hashtags"
   ]
  },
  {
   "cell_type": "code",
   "execution_count": 24,
   "metadata": {},
   "outputs": [
    {
     "data": {
      "text/plain": [
       "[]                                                                                                                                                                                                                                                                                          527\n",
       "[{'text': 'Taiwan', 'indices': [0, 7]}]                                                                                                                                                                                                                                                      62\n",
       "[{'text': 'ThankYou', 'indices': [0, 9]}, {'text': 'JoeBiden', 'indices': [20, 29]}, {'text': 'Nides', 'indices': [42, 48]}, {'text': 'Pelosi', 'indices': [63, 70]}, {'text': 'IsraelHasTheRightToDefendItself', 'indices': [72, 104]}, {'text': 'IAmAGoodJew', 'indices': [107, 119]}]     20\n",
       "[{'text': 'Taiwan', 'indices': [36, 43]}]                                                                                                                                                                                                                                                    20\n",
       "[{'text': 'Taiwan', 'indices': [44, 51]}]                                                                                                                                                                                                                                                    18\n",
       "                                                                                                                                                                                                                                                                                           ... \n",
       "[{'text': 'China', 'indices': [25, 31]}, {'text': 'Taiwan', 'indices': [32, 39]}, {'text': 'US', 'indices': [40, 43]}, {'text': 'TechStocks', 'indices': [111, 122]}]                                                                                                                         1\n",
       "[{'text': 'Taiwan', 'indices': [42, 49]}, {'text': 'Chinese', 'indices': [92, 100]}, {'text': 'France', 'indices': [115, 122]}]                                                                                                                                                               1\n",
       "[{'text': 'Baerbock', 'indices': [0, 9]}, {'text': 'BaerbockRuecktritt', 'indices': [10, 29]}, {'text': 'pelositaiwan', 'indices': [30, 43]}, {'text': 'pelosivisittotaiwan', 'indices': [44, 64]}, {'text': 'CNN', 'indices': [186, 190]}]                                                   1\n",
       "[{'text': 'BREAKING', 'indices': [14, 23]}, {'text': 'Taiwan', 'indices': [25, 32]}, {'text': 'Chinese', 'indices': [80, 88]}]                                                                                                                                                                1\n",
       "[{'text': 'China', 'indices': [17, 23]}, {'text': 'Taiwan', 'indices': [45, 52]}]                                                                                                                                                                                                             1\n",
       "Name: hashtags, Length: 5697, dtype: int64"
      ]
     },
     "execution_count": 24,
     "metadata": {},
     "output_type": "execute_result"
    }
   ],
   "source": [
    "tweets_df.hashtags.value_counts()"
   ]
  },
  {
   "cell_type": "markdown",
   "metadata": {},
   "source": [
    "As we can see there are null hashtags"
   ]
  },
  {
   "cell_type": "markdown",
   "metadata": {},
   "source": [
    "#### removing null hashtags"
   ]
  },
  {
   "cell_type": "code",
   "execution_count": 25,
   "metadata": {},
   "outputs": [
    {
     "data": {
      "text/plain": [
       "0               [{'text': 'City', 'indices': [132, 137]}]\n",
       "1       [{'text': 'China', 'indices': [18, 24]}, {'tex...\n",
       "2          [{'text': 'XiJinping', 'indices': [127, 137]}]\n",
       "3             [{'text': 'XiJinping', 'indices': [9, 19]}]\n",
       "4                                                      []\n",
       "                              ...                        \n",
       "7435    [{'text': 'China', 'indices': [29, 35]}, {'tex...\n",
       "7436    [{'text': 'exactly', 'indices': [29, 37]}, {'t...\n",
       "7437    [{'text': 'Taiwan', 'indices': [168, 175]}, {'...\n",
       "7438    [{'text': 'China', 'indices': [17, 23]}, {'tex...\n",
       "7439            [{'text': 'Pelosi', 'indices': [16, 23]}]\n",
       "Name: hashtags, Length: 7440, dtype: object"
      ]
     },
     "execution_count": 25,
     "metadata": {},
     "output_type": "execute_result"
    }
   ],
   "source": [
    "# take the rows from that have values in the hashtag columns\n",
    "hashtags_list_df = tweets_df.loc[tweets_df[\"hashtags\"] != \" \"]\n",
    "hashtags_list_df = hashtags_list_df['hashtags']\n",
    "hashtags_list_df"
   ]
  },
  {
   "cell_type": "markdown",
   "metadata": {},
   "source": [
    "#### flatten the hashtags"
   ]
  },
  {
   "cell_type": "code",
   "execution_count": 26,
   "metadata": {},
   "outputs": [
    {
     "data": {
      "text/html": [
       "<div>\n",
       "<style scoped>\n",
       "    .dataframe tbody tr th:only-of-type {\n",
       "        vertical-align: middle;\n",
       "    }\n",
       "\n",
       "    .dataframe tbody tr th {\n",
       "        vertical-align: top;\n",
       "    }\n",
       "\n",
       "    .dataframe thead th {\n",
       "        text-align: right;\n",
       "    }\n",
       "</style>\n",
       "<table border=\"1\" class=\"dataframe\">\n",
       "  <thead>\n",
       "    <tr style=\"text-align: right;\">\n",
       "      <th></th>\n",
       "      <th>hashtag</th>\n",
       "    </tr>\n",
       "  </thead>\n",
       "  <tbody>\n",
       "    <tr>\n",
       "      <th>0</th>\n",
       "      <td>[{'text':</td>\n",
       "    </tr>\n",
       "    <tr>\n",
       "      <th>1</th>\n",
       "      <td>'City',</td>\n",
       "    </tr>\n",
       "    <tr>\n",
       "      <th>2</th>\n",
       "      <td>'indices':</td>\n",
       "    </tr>\n",
       "    <tr>\n",
       "      <th>3</th>\n",
       "      <td>[132,</td>\n",
       "    </tr>\n",
       "    <tr>\n",
       "      <th>4</th>\n",
       "      <td>137]}]</td>\n",
       "    </tr>\n",
       "  </tbody>\n",
       "</table>\n",
       "</div>"
      ],
      "text/plain": [
       "      hashtag\n",
       "0   [{'text':\n",
       "1     'City',\n",
       "2  'indices':\n",
       "3       [132,\n",
       "4      137]}]"
      ]
     },
     "execution_count": 26,
     "metadata": {},
     "output_type": "execute_result"
    }
   ],
   "source": [
    "#create dataframe where each hashtag gets its own row\n",
    "flattened_hashtags = []\n",
    "for hashtags_list in hashtags_list_df:\n",
    "    hashtags_list = hashtags_list.split(\" \")\n",
    "    for hashtag in hashtags_list:\n",
    "        flattened_hashtags.append(hashtag)\n",
    "flattened_hashtags_df = pd.DataFrame(flattened_hashtags, columns=['hashtag'])\n",
    "flattened_hashtags_df.head()"
   ]
  },
  {
   "cell_type": "code",
   "execution_count": 27,
   "metadata": {},
   "outputs": [
    {
     "data": {
      "text/plain": [
       "hashtag        \n",
       "'indices':         27668\n",
       "{'text':           20755\n",
       "[{'text':           6913\n",
       "'Taiwan',           5063\n",
       "'China',            2439\n",
       "                   ...  \n",
       "'himalayas',           1\n",
       "'OPERATIVES',          1\n",
       "'historical',          1\n",
       "'ONEPIECE1056',        1\n",
       "'antiwhitism',         1\n",
       "Length: 5709, dtype: int64"
      ]
     },
     "execution_count": 27,
     "metadata": {},
     "output_type": "execute_result"
    }
   ],
   "source": [
    "flattened_hashtags_df.value_counts()"
   ]
  },
  {
   "cell_type": "code",
   "execution_count": 28,
   "metadata": {},
   "outputs": [
    {
     "data": {
      "image/png": "[encoded data removed]",
      "text/plain": [
       "<Figure size 432x288 with 1 Axes>"
      ]
     },
     "metadata": {},
     "output_type": "display_data"
    }
   ],
   "source": [
    "flattened_hashtags_df.value_counts().head(10).plot(kind=\"pie\");"
   ]
  },
  {
   "cell_type": "markdown",
   "metadata": {},
   "source": [
    "#### User mentions"
   ]
  },
  {
   "cell_type": "code",
   "execution_count": 29,
   "metadata": {},
   "outputs": [
    {
     "data": {
      "text/plain": [
       "0       [{'screen_name': 'i_ameztoy', 'name': 'Iban Am...\n",
       "1       [{'screen_name': 'IndoPac_Info', 'name': 'Indo...\n",
       "2       [{'screen_name': 'ZelenskyyUa', 'name': 'Волод...\n",
       "3                                                      []\n",
       "4       [{'screen_name': 'ChinaUncensored', 'name': 'C...\n",
       "                              ...                        \n",
       "7435    [{'screen_name': 'metesohtaoglu', 'name': 'Met...\n",
       "7436    [{'screen_name': 'NEVERBOW', 'name': 'P K', 'i...\n",
       "7437    [{'screen_name': 'BBCNews', 'name': 'BBC News ...\n",
       "7438                                                   []\n",
       "7439    [{'screen_name': 'Reuters', 'name': 'Reuters',...\n",
       "Name: user_mentions, Length: 7440, dtype: object"
      ]
     },
     "execution_count": 29,
     "metadata": {},
     "output_type": "execute_result"
    }
   ],
   "source": [
    "tweets_df[\"user_mentions\"]"
   ]
  },
  {
   "cell_type": "code",
   "execution_count": 30,
   "metadata": {},
   "outputs": [
    {
     "data": {
      "text/plain": [
       "0       [{'screen_name': 'i_ameztoy', 'name': 'Iban Am...\n",
       "1       [{'screen_name': 'IndoPac_Info', 'name': 'Indo...\n",
       "2       [{'screen_name': 'ZelenskyyUa', 'name': 'Волод...\n",
       "3                                                      []\n",
       "4       [{'screen_name': 'ChinaUncensored', 'name': 'C...\n",
       "                              ...                        \n",
       "7435    [{'screen_name': 'metesohtaoglu', 'name': 'Met...\n",
       "7436    [{'screen_name': 'NEVERBOW', 'name': 'P K', 'i...\n",
       "7437    [{'screen_name': 'BBCNews', 'name': 'BBC News ...\n",
       "7438                                                   []\n",
       "7439    [{'screen_name': 'Reuters', 'name': 'Reuters',...\n",
       "Name: user_mentions, Length: 7440, dtype: object"
      ]
     },
     "execution_count": 30,
     "metadata": {},
     "output_type": "execute_result"
    }
   ],
   "source": [
    "# take the rows from that have values in the user_mentions columns\n",
    "user_mentions_list_df = tweets_df.loc[tweets_df[\"user_mentions\"] != \" \"]\n",
    "user_mentions_list_df = user_mentions_list_df['user_mentions']\n",
    "user_mentions_list_df"
   ]
  },
  {
   "cell_type": "code",
   "execution_count": 31,
   "metadata": {},
   "outputs": [
    {
     "data": {
      "text/html": [
       "<div>\n",
       "<style scoped>\n",
       "    .dataframe tbody tr th:only-of-type {\n",
       "        vertical-align: middle;\n",
       "    }\n",
       "\n",
       "    .dataframe tbody tr th {\n",
       "        vertical-align: top;\n",
       "    }\n",
       "\n",
       "    .dataframe thead th {\n",
       "        text-align: right;\n",
       "    }\n",
       "</style>\n",
       "<table border=\"1\" class=\"dataframe\">\n",
       "  <thead>\n",
       "    <tr style=\"text-align: right;\">\n",
       "      <th></th>\n",
       "      <th>user_mentions</th>\n",
       "    </tr>\n",
       "  </thead>\n",
       "  <tbody>\n",
       "    <tr>\n",
       "      <th>0</th>\n",
       "      <td>[{'screen_name':</td>\n",
       "    </tr>\n",
       "    <tr>\n",
       "      <th>1</th>\n",
       "      <td>'i_ameztoy',</td>\n",
       "    </tr>\n",
       "    <tr>\n",
       "      <th>2</th>\n",
       "      <td>'name':</td>\n",
       "    </tr>\n",
       "    <tr>\n",
       "      <th>3</th>\n",
       "      <td>'Iban</td>\n",
       "    </tr>\n",
       "    <tr>\n",
       "      <th>4</th>\n",
       "      <td>Ameztoy',</td>\n",
       "    </tr>\n",
       "  </tbody>\n",
       "</table>\n",
       "</div>"
      ],
      "text/plain": [
       "      user_mentions\n",
       "0  [{'screen_name':\n",
       "1      'i_ameztoy',\n",
       "2           'name':\n",
       "3             'Iban\n",
       "4         Ameztoy',"
      ]
     },
     "execution_count": 31,
     "metadata": {},
     "output_type": "execute_result"
    }
   ],
   "source": [
    "#create dataframe where each user_mention gets its own row\n",
    "flattened_user_mentions = []\n",
    "for user_mentions_list in user_mentions_list_df:\n",
    "    user_mentions_list = user_mentions_list.split(\" \")\n",
    "    for user_mentions in user_mentions_list:\n",
    "        flattened_user_mentions.append(user_mentions)\n",
    "flattened_user_mentions_df = pd.DataFrame(flattened_user_mentions, columns=['user_mentions'])\n",
    "flattened_user_mentions_df.head()"
   ]
  },
  {
   "cell_type": "code",
   "execution_count": 32,
   "metadata": {},
   "outputs": [
    {
     "data": {
      "text/plain": [
       "user_mentions   \n",
       "'id':               6521\n",
       "'name':             6521\n",
       "'id_str':           6521\n",
       "'indices':          6521\n",
       "[{'screen_name':    4150\n",
       "                    ... \n",
       "'Scientists            1\n",
       "'ScottLucas_EA',       1\n",
       "'ScottishSun',         1\n",
       "'ScottsPassage',       1\n",
       "🪙',                    1\n",
       "Length: 15428, dtype: int64"
      ]
     },
     "execution_count": 32,
     "metadata": {},
     "output_type": "execute_result"
    }
   ],
   "source": [
    "flattened_user_mentions_df.value_counts()"
   ]
  },
  {
   "cell_type": "code",
   "execution_count": 33,
   "metadata": {},
   "outputs": [
    {
     "data": {
      "image/png": "[encoded data removed]",
      "text/plain": [
       "<Figure size 432x288 with 1 Axes>"
      ]
     },
     "metadata": {},
     "output_type": "display_data"
    }
   ],
   "source": [
    "flattened_user_mentions_df.value_counts().head(5).plot(kind=\"pie\");"
   ]
  }
 ],
 "metadata": {
  "kernelspec": {
   "display_name": "Python 3.10.5 64-bit",
   "language": "python",
   "name": "python3"
  },
  "language_info": {
   "codemirror_mode": {
    "name": "ipython",
    "version": 3
   },
   "file_extension": ".py",
   "mimetype": "text/x-python",
   "name": "python",
   "nbconvert_exporter": "python",
   "pygments_lexer": "ipython3",
   "version": "3.10.5"
  },
  "orig_nbformat": 4,
  "vscode": {
   "interpreter": {
    "hash": "a265634967a27dd555e8346f2355ee703e655fd7f0a0d20c168527cd0a3d5707"
   }
  }
 },
 "nbformat": 4,
 "nbformat_minor": 2
}
