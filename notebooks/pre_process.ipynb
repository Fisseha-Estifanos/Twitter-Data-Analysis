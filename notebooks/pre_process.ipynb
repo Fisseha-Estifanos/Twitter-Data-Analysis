{
 "cells": [
  {
   "cell_type": "code",
   "execution_count": 1,
   "metadata": {},
   "outputs": [],
   "source": [
    "# imports\n",
    "import pandas as pd\n",
    "import sys"
   ]
  },
  {
   "cell_type": "code",
   "execution_count": 2,
   "metadata": {},
   "outputs": [],
   "source": [
    "# import custom libraries and scripts\n",
    "# sys.path.append(os.path.abspath(os.path.join(\"../..\")))\n",
    "sys.path.append(\".\")\n",
    "sys.path.append(\"..\")\n",
    "\n",
    "from defaults import *\n",
    "from extract_dataframe import read_json\n",
    "from extract_dataframe import TweetDfExtractor\n",
    "from clean_tweets_dataframe import Clean_Tweets"
   ]
  },
  {
   "cell_type": "code",
   "execution_count": 3,
   "metadata": {},
   "outputs": [
    {
     "data": {
      "text/html": [
       "<div>\n",
       "<style scoped>\n",
       "    .dataframe tbody tr th:only-of-type {\n",
       "        vertical-align: middle;\n",
       "    }\n",
       "\n",
       "    .dataframe tbody tr th {\n",
       "        vertical-align: top;\n",
       "    }\n",
       "\n",
       "    .dataframe thead th {\n",
       "        text-align: right;\n",
       "    }\n",
       "</style>\n",
       "<table border=\"1\" class=\"dataframe\">\n",
       "  <thead>\n",
       "    <tr style=\"text-align: right;\">\n",
       "      <th></th>\n",
       "      <th>created_at</th>\n",
       "      <th>source</th>\n",
       "      <th>original_text</th>\n",
       "      <th>polarity</th>\n",
       "      <th>subjectivity</th>\n",
       "      <th>lang</th>\n",
       "      <th>favorite_count</th>\n",
       "      <th>status_count</th>\n",
       "      <th>retweet_count</th>\n",
       "      <th>screen_name</th>\n",
       "      <th>original_author</th>\n",
       "      <th>followers_count</th>\n",
       "      <th>friends_count</th>\n",
       "      <th>possibly_sensitive</th>\n",
       "      <th>hashtags</th>\n",
       "      <th>user_mentions</th>\n",
       "      <th>place</th>\n",
       "    </tr>\n",
       "  </thead>\n",
       "  <tbody>\n",
       "    <tr>\n",
       "      <th>0</th>\n",
       "      <td>2022-08-07 22:31:20+00:00</td>\n",
       "      <td>&lt;a href=\"http://twitter.com/download/android\" ...</td>\n",
       "      <td>RT @i_ameztoy: Extra random image (I):\\n\\nLets...</td>\n",
       "      <td>-1.250000e-01</td>\n",
       "      <td>0.190625</td>\n",
       "      <td>en</td>\n",
       "      <td>4</td>\n",
       "      <td>8097</td>\n",
       "      <td>2</td>\n",
       "      <td>i_ameztoy</td>\n",
       "      <td>i_ameztoy</td>\n",
       "      <td>20497</td>\n",
       "      <td>2621</td>\n",
       "      <td>NaN</td>\n",
       "      <td>[{'text': 'City', 'indices': [132, 137]}]</td>\n",
       "      <td>[{'screen_name': 'i_ameztoy', 'name': 'Iban Am...</td>\n",
       "      <td></td>\n",
       "    </tr>\n",
       "    <tr>\n",
       "      <th>1</th>\n",
       "      <td>2022-08-07 22:31:16+00:00</td>\n",
       "      <td>&lt;a href=\"http://twitter.com/download/android\" ...</td>\n",
       "      <td>RT @IndoPac_Info: #China's media explains the ...</td>\n",
       "      <td>-1.000000e-01</td>\n",
       "      <td>0.100000</td>\n",
       "      <td>en</td>\n",
       "      <td>691</td>\n",
       "      <td>5831</td>\n",
       "      <td>201</td>\n",
       "      <td>ZIisq</td>\n",
       "      <td>ZIisq</td>\n",
       "      <td>65</td>\n",
       "      <td>272</td>\n",
       "      <td>NaN</td>\n",
       "      <td>[{'text': 'China', 'indices': [18, 24]}, {'tex...</td>\n",
       "      <td>[{'screen_name': 'IndoPac_Info', 'name': 'Indo...</td>\n",
       "      <td></td>\n",
       "    </tr>\n",
       "    <tr>\n",
       "      <th>2</th>\n",
       "      <td>2022-08-07 22:31:07+00:00</td>\n",
       "      <td>&lt;a href=\"http://twitter.com/download/android\" ...</td>\n",
       "      <td>China even cut off communication, they don't a...</td>\n",
       "      <td>0.000000e+00</td>\n",
       "      <td>0.000000</td>\n",
       "      <td>en</td>\n",
       "      <td>0</td>\n",
       "      <td>1627</td>\n",
       "      <td>0</td>\n",
       "      <td>Fin21Free</td>\n",
       "      <td>Fin21Free</td>\n",
       "      <td>85</td>\n",
       "      <td>392</td>\n",
       "      <td>NaN</td>\n",
       "      <td>[{'text': 'XiJinping', 'indices': [127, 137]}]</td>\n",
       "      <td>[{'screen_name': 'ZelenskyyUa', 'name': 'Волод...</td>\n",
       "      <td>Netherlands</td>\n",
       "    </tr>\n",
       "    <tr>\n",
       "      <th>3</th>\n",
       "      <td>2022-08-07 22:31:06+00:00</td>\n",
       "      <td>&lt;a href=\"http://twitter.com/download/android\" ...</td>\n",
       "      <td>Putin to #XiJinping : I told you my friend, Ta...</td>\n",
       "      <td>1.000000e-01</td>\n",
       "      <td>0.350000</td>\n",
       "      <td>en</td>\n",
       "      <td>0</td>\n",
       "      <td>1627</td>\n",
       "      <td>0</td>\n",
       "      <td>Fin21Free</td>\n",
       "      <td>Fin21Free</td>\n",
       "      <td>85</td>\n",
       "      <td>392</td>\n",
       "      <td>NaN</td>\n",
       "      <td>[{'text': 'XiJinping', 'indices': [9, 19]}]</td>\n",
       "      <td>[]</td>\n",
       "      <td>Netherlands</td>\n",
       "    </tr>\n",
       "    <tr>\n",
       "      <th>4</th>\n",
       "      <td>2022-08-07 22:31:04+00:00</td>\n",
       "      <td>&lt;a href=\"http://twitter.com/download/iphone\" r...</td>\n",
       "      <td>RT @ChinaUncensored: I’m sorry, I thought Taiw...</td>\n",
       "      <td>-6.938894e-18</td>\n",
       "      <td>0.556250</td>\n",
       "      <td>en</td>\n",
       "      <td>1521</td>\n",
       "      <td>18958</td>\n",
       "      <td>381</td>\n",
       "      <td>VizziniDolores</td>\n",
       "      <td>VizziniDolores</td>\n",
       "      <td>910</td>\n",
       "      <td>2608</td>\n",
       "      <td>NaN</td>\n",
       "      <td>[]</td>\n",
       "      <td>[{'screen_name': 'ChinaUncensored', 'name': 'C...</td>\n",
       "      <td>Ayent, Schweiz</td>\n",
       "    </tr>\n",
       "    <tr>\n",
       "      <th>5</th>\n",
       "      <td>2022-08-07 22:31:02+00:00</td>\n",
       "      <td>&lt;a href=\"http://twitter.com/download/android\" ...</td>\n",
       "      <td>RT @benedictrogers: We must not let this happe...</td>\n",
       "      <td>2.000000e-01</td>\n",
       "      <td>0.500000</td>\n",
       "      <td>en</td>\n",
       "      <td>116</td>\n",
       "      <td>48483</td>\n",
       "      <td>36</td>\n",
       "      <td>GraceCh15554845</td>\n",
       "      <td>GraceCh15554845</td>\n",
       "      <td>207</td>\n",
       "      <td>54</td>\n",
       "      <td>0.0</td>\n",
       "      <td>[{'text': 'Taiwan', 'indices': [84, 91]}]</td>\n",
       "      <td>[{'screen_name': 'benedictrogers', 'name': 'Be...</td>\n",
       "      <td>Melbourne, Victoria</td>\n",
       "    </tr>\n",
       "    <tr>\n",
       "      <th>6</th>\n",
       "      <td>2022-08-07 22:30:59+00:00</td>\n",
       "      <td>&lt;a href=\"http://twitter.com/download/android\" ...</td>\n",
       "      <td>RT @TGTM_Official: What kind of country can co...</td>\n",
       "      <td>1.583333e-01</td>\n",
       "      <td>0.800000</td>\n",
       "      <td>en</td>\n",
       "      <td>1106</td>\n",
       "      <td>4173</td>\n",
       "      <td>411</td>\n",
       "      <td>Philipkuma1</td>\n",
       "      <td>Philipkuma1</td>\n",
       "      <td>12</td>\n",
       "      <td>264</td>\n",
       "      <td>NaN</td>\n",
       "      <td>[{'text': 'Taiwan', 'indices': [101, 108]}, {'...</td>\n",
       "      <td>[{'screen_name': 'TGTM_Official', 'name': 'The...</td>\n",
       "      <td></td>\n",
       "    </tr>\n",
       "    <tr>\n",
       "      <th>7</th>\n",
       "      <td>2022-08-07 22:30:59+00:00</td>\n",
       "      <td>&lt;a href=\"http://twitter.com/download/android\" ...</td>\n",
       "      <td>RT @ChinaInfo777: #PinkFloyd singer Roger Wate...</td>\n",
       "      <td>0.000000e+00</td>\n",
       "      <td>0.000000</td>\n",
       "      <td>en</td>\n",
       "      <td>10</td>\n",
       "      <td>24102</td>\n",
       "      <td>5</td>\n",
       "      <td>nhohn2011</td>\n",
       "      <td>nhohn2011</td>\n",
       "      <td>870</td>\n",
       "      <td>508</td>\n",
       "      <td>NaN</td>\n",
       "      <td>[{'text': 'PinkFloyd', 'indices': [18, 28]}, {...</td>\n",
       "      <td>[{'screen_name': 'ChinaInfo777', 'name': 'Chin...</td>\n",
       "      <td>Florida, USA</td>\n",
       "    </tr>\n",
       "    <tr>\n",
       "      <th>8</th>\n",
       "      <td>2022-08-07 22:30:50+00:00</td>\n",
       "      <td>&lt;a href=\"http://twitter.com/download/android\" ...</td>\n",
       "      <td>RT @AmbQinGang: China's SC&amp;amp;FM Wang Yi elab...</td>\n",
       "      <td>0.000000e+00</td>\n",
       "      <td>0.000000</td>\n",
       "      <td>en</td>\n",
       "      <td>1221</td>\n",
       "      <td>630</td>\n",
       "      <td>239</td>\n",
       "      <td>ClaudioColomaRI</td>\n",
       "      <td>ClaudioColomaRI</td>\n",
       "      <td>127</td>\n",
       "      <td>263</td>\n",
       "      <td>NaN</td>\n",
       "      <td>[{'text': 'Taiwan', 'indices': [80, 87]}]</td>\n",
       "      <td>[{'screen_name': 'AmbQinGang', 'name': 'Qin Ga...</td>\n",
       "      <td>El mundo periférico</td>\n",
       "    </tr>\n",
       "    <tr>\n",
       "      <th>9</th>\n",
       "      <td>2022-08-07 22:30:45+00:00</td>\n",
       "      <td>&lt;a href=\"https://mobile.twitter.com\" rel=\"nofo...</td>\n",
       "      <td>RT @CGMeifangZhang: Chinese ambassador to the ...</td>\n",
       "      <td>2.000000e-01</td>\n",
       "      <td>0.375000</td>\n",
       "      <td>en</td>\n",
       "      <td>49</td>\n",
       "      <td>107188</td>\n",
       "      <td>25</td>\n",
       "      <td>jmarzola1</td>\n",
       "      <td>jmarzola1</td>\n",
       "      <td>213</td>\n",
       "      <td>877</td>\n",
       "      <td>NaN</td>\n",
       "      <td>[{'text': 'USA', 'indices': [66, 70]}, {'text'...</td>\n",
       "      <td>[{'screen_name': 'CGMeifangZhang', 'name': 'Zh...</td>\n",
       "      <td></td>\n",
       "    </tr>\n",
       "  </tbody>\n",
       "</table>\n",
       "</div>"
      ],
      "text/plain": [
       "                 created_at  \\\n",
       "0 2022-08-07 22:31:20+00:00   \n",
       "1 2022-08-07 22:31:16+00:00   \n",
       "2 2022-08-07 22:31:07+00:00   \n",
       "3 2022-08-07 22:31:06+00:00   \n",
       "4 2022-08-07 22:31:04+00:00   \n",
       "5 2022-08-07 22:31:02+00:00   \n",
       "6 2022-08-07 22:30:59+00:00   \n",
       "7 2022-08-07 22:30:59+00:00   \n",
       "8 2022-08-07 22:30:50+00:00   \n",
       "9 2022-08-07 22:30:45+00:00   \n",
       "\n",
       "                                              source  \\\n",
       "0  <a href=\"http://twitter.com/download/android\" ...   \n",
       "1  <a href=\"http://twitter.com/download/android\" ...   \n",
       "2  <a href=\"http://twitter.com/download/android\" ...   \n",
       "3  <a href=\"http://twitter.com/download/android\" ...   \n",
       "4  <a href=\"http://twitter.com/download/iphone\" r...   \n",
       "5  <a href=\"http://twitter.com/download/android\" ...   \n",
       "6  <a href=\"http://twitter.com/download/android\" ...   \n",
       "7  <a href=\"http://twitter.com/download/android\" ...   \n",
       "8  <a href=\"http://twitter.com/download/android\" ...   \n",
       "9  <a href=\"https://mobile.twitter.com\" rel=\"nofo...   \n",
       "\n",
       "                                       original_text      polarity  \\\n",
       "0  RT @i_ameztoy: Extra random image (I):\\n\\nLets... -1.250000e-01   \n",
       "1  RT @IndoPac_Info: #China's media explains the ... -1.000000e-01   \n",
       "2  China even cut off communication, they don't a...  0.000000e+00   \n",
       "3  Putin to #XiJinping : I told you my friend, Ta...  1.000000e-01   \n",
       "4  RT @ChinaUncensored: I’m sorry, I thought Taiw... -6.938894e-18   \n",
       "5  RT @benedictrogers: We must not let this happe...  2.000000e-01   \n",
       "6  RT @TGTM_Official: What kind of country can co...  1.583333e-01   \n",
       "7  RT @ChinaInfo777: #PinkFloyd singer Roger Wate...  0.000000e+00   \n",
       "8  RT @AmbQinGang: China's SC&amp;FM Wang Yi elab...  0.000000e+00   \n",
       "9  RT @CGMeifangZhang: Chinese ambassador to the ...  2.000000e-01   \n",
       "\n",
       "   subjectivity lang  favorite_count  status_count  retweet_count  \\\n",
       "0      0.190625   en               4          8097              2   \n",
       "1      0.100000   en             691          5831            201   \n",
       "2      0.000000   en               0          1627              0   \n",
       "3      0.350000   en               0          1627              0   \n",
       "4      0.556250   en            1521         18958            381   \n",
       "5      0.500000   en             116         48483             36   \n",
       "6      0.800000   en            1106          4173            411   \n",
       "7      0.000000   en              10         24102              5   \n",
       "8      0.000000   en            1221           630            239   \n",
       "9      0.375000   en              49        107188             25   \n",
       "\n",
       "       screen_name  original_author  followers_count  friends_count  \\\n",
       "0        i_ameztoy        i_ameztoy            20497           2621   \n",
       "1            ZIisq            ZIisq               65            272   \n",
       "2        Fin21Free        Fin21Free               85            392   \n",
       "3        Fin21Free        Fin21Free               85            392   \n",
       "4   VizziniDolores   VizziniDolores              910           2608   \n",
       "5  GraceCh15554845  GraceCh15554845              207             54   \n",
       "6      Philipkuma1      Philipkuma1               12            264   \n",
       "7        nhohn2011        nhohn2011              870            508   \n",
       "8  ClaudioColomaRI  ClaudioColomaRI              127            263   \n",
       "9        jmarzola1        jmarzola1              213            877   \n",
       "\n",
       "   possibly_sensitive                                           hashtags  \\\n",
       "0                 NaN          [{'text': 'City', 'indices': [132, 137]}]   \n",
       "1                 NaN  [{'text': 'China', 'indices': [18, 24]}, {'tex...   \n",
       "2                 NaN     [{'text': 'XiJinping', 'indices': [127, 137]}]   \n",
       "3                 NaN        [{'text': 'XiJinping', 'indices': [9, 19]}]   \n",
       "4                 NaN                                                 []   \n",
       "5                 0.0          [{'text': 'Taiwan', 'indices': [84, 91]}]   \n",
       "6                 NaN  [{'text': 'Taiwan', 'indices': [101, 108]}, {'...   \n",
       "7                 NaN  [{'text': 'PinkFloyd', 'indices': [18, 28]}, {...   \n",
       "8                 NaN          [{'text': 'Taiwan', 'indices': [80, 87]}]   \n",
       "9                 NaN  [{'text': 'USA', 'indices': [66, 70]}, {'text'...   \n",
       "\n",
       "                                       user_mentions                place  \n",
       "0  [{'screen_name': 'i_ameztoy', 'name': 'Iban Am...                       \n",
       "1  [{'screen_name': 'IndoPac_Info', 'name': 'Indo...                       \n",
       "2  [{'screen_name': 'ZelenskyyUa', 'name': 'Волод...          Netherlands  \n",
       "3                                                 []          Netherlands  \n",
       "4  [{'screen_name': 'ChinaUncensored', 'name': 'C...       Ayent, Schweiz  \n",
       "5  [{'screen_name': 'benedictrogers', 'name': 'Be...  Melbourne, Victoria  \n",
       "6  [{'screen_name': 'TGTM_Official', 'name': 'The...                       \n",
       "7  [{'screen_name': 'ChinaInfo777', 'name': 'Chin...         Florida, USA  \n",
       "8  [{'screen_name': 'AmbQinGang', 'name': 'Qin Ga...  El mundo periférico  \n",
       "9  [{'screen_name': 'CGMeifangZhang', 'name': 'Zh...                       "
      ]
     },
     "execution_count": 3,
     "metadata": {},
     "output_type": "execute_result"
    }
   ],
   "source": [
    "# read data\n",
    "global_data = pd.read_json('../data/processed_global_tweet_data.json')\n",
    "global_data.head(10)"
   ]
  },
  {
   "cell_type": "code",
   "execution_count": 4,
   "metadata": {},
   "outputs": [
    {
     "name": "stdout",
     "output_type": "stream",
     "text": [
      "<class 'pandas.core.frame.DataFrame'>\n",
      "Int64Index: 22000 entries, 0 to 21999\n",
      "Data columns (total 17 columns):\n",
      " #   Column              Non-Null Count  Dtype              \n",
      "---  ------              --------------  -----              \n",
      " 0   created_at          22000 non-null  datetime64[ns, UTC]\n",
      " 1   source              22000 non-null  object             \n",
      " 2   original_text       22000 non-null  object             \n",
      " 3   polarity            22000 non-null  float64            \n",
      " 4   subjectivity        22000 non-null  float64            \n",
      " 5   lang                22000 non-null  object             \n",
      " 6   favorite_count      22000 non-null  int64              \n",
      " 7   status_count        22000 non-null  int64              \n",
      " 8   retweet_count       22000 non-null  int64              \n",
      " 9   screen_name         22000 non-null  object             \n",
      " 10  original_author     22000 non-null  object             \n",
      " 11  followers_count     22000 non-null  int64              \n",
      " 12  friends_count       22000 non-null  int64              \n",
      " 13  possibly_sensitive  6191 non-null   float64            \n",
      " 14  hashtags            22000 non-null  object             \n",
      " 15  user_mentions       22000 non-null  object             \n",
      " 16  place               22000 non-null  object             \n",
      "dtypes: datetime64[ns, UTC](1), float64(3), int64(5), object(8)\n",
      "memory usage: 3.0+ MB\n"
     ]
    }
   ],
   "source": [
    "global_data.info()"
   ]
  },
  {
   "cell_type": "code",
   "execution_count": 5,
   "metadata": {},
   "outputs": [
    {
     "data": {
      "text/html": [
       "<div>\n",
       "<style scoped>\n",
       "    .dataframe tbody tr th:only-of-type {\n",
       "        vertical-align: middle;\n",
       "    }\n",
       "\n",
       "    .dataframe tbody tr th {\n",
       "        vertical-align: top;\n",
       "    }\n",
       "\n",
       "    .dataframe thead th {\n",
       "        text-align: right;\n",
       "    }\n",
       "</style>\n",
       "<table border=\"1\" class=\"dataframe\">\n",
       "  <thead>\n",
       "    <tr style=\"text-align: right;\">\n",
       "      <th></th>\n",
       "      <th>polarity</th>\n",
       "      <th>subjectivity</th>\n",
       "      <th>favorite_count</th>\n",
       "      <th>status_count</th>\n",
       "      <th>retweet_count</th>\n",
       "      <th>followers_count</th>\n",
       "      <th>friends_count</th>\n",
       "      <th>possibly_sensitive</th>\n",
       "    </tr>\n",
       "  </thead>\n",
       "  <tbody>\n",
       "    <tr>\n",
       "      <th>count</th>\n",
       "      <td>22000.000000</td>\n",
       "      <td>22000.000000</td>\n",
       "      <td>22000.000000</td>\n",
       "      <td>2.200000e+04</td>\n",
       "      <td>22000.000000</td>\n",
       "      <td>2.200000e+04</td>\n",
       "      <td>22000.000000</td>\n",
       "      <td>6191.000000</td>\n",
       "    </tr>\n",
       "    <tr>\n",
       "      <th>mean</th>\n",
       "      <td>0.061325</td>\n",
       "      <td>0.283839</td>\n",
       "      <td>852.137318</td>\n",
       "      <td>5.446036e+04</td>\n",
       "      <td>176.750182</td>\n",
       "      <td>1.796764e+04</td>\n",
       "      <td>1563.114455</td>\n",
       "      <td>0.037151</td>\n",
       "    </tr>\n",
       "    <tr>\n",
       "      <th>std</th>\n",
       "      <td>0.223701</td>\n",
       "      <td>0.290963</td>\n",
       "      <td>3106.077645</td>\n",
       "      <td>1.454120e+05</td>\n",
       "      <td>498.435765</td>\n",
       "      <td>3.030478e+05</td>\n",
       "      <td>4358.651264</td>\n",
       "      <td>0.189146</td>\n",
       "    </tr>\n",
       "    <tr>\n",
       "      <th>min</th>\n",
       "      <td>-1.000000</td>\n",
       "      <td>0.000000</td>\n",
       "      <td>0.000000</td>\n",
       "      <td>1.000000e+00</td>\n",
       "      <td>0.000000</td>\n",
       "      <td>0.000000e+00</td>\n",
       "      <td>0.000000</td>\n",
       "      <td>0.000000</td>\n",
       "    </tr>\n",
       "    <tr>\n",
       "      <th>25%</th>\n",
       "      <td>0.000000</td>\n",
       "      <td>0.000000</td>\n",
       "      <td>2.000000</td>\n",
       "      <td>2.105750e+03</td>\n",
       "      <td>2.000000</td>\n",
       "      <td>5.700000e+01</td>\n",
       "      <td>137.000000</td>\n",
       "      <td>0.000000</td>\n",
       "    </tr>\n",
       "    <tr>\n",
       "      <th>50%</th>\n",
       "      <td>0.000000</td>\n",
       "      <td>0.200000</td>\n",
       "      <td>115.000000</td>\n",
       "      <td>1.038750e+04</td>\n",
       "      <td>38.000000</td>\n",
       "      <td>2.840000e+02</td>\n",
       "      <td>487.000000</td>\n",
       "      <td>0.000000</td>\n",
       "    </tr>\n",
       "    <tr>\n",
       "      <th>75%</th>\n",
       "      <td>0.133333</td>\n",
       "      <td>0.468824</td>\n",
       "      <td>655.000000</td>\n",
       "      <td>4.526150e+04</td>\n",
       "      <td>187.000000</td>\n",
       "      <td>1.324500e+03</td>\n",
       "      <td>1599.000000</td>\n",
       "      <td>0.000000</td>\n",
       "    </tr>\n",
       "    <tr>\n",
       "      <th>max</th>\n",
       "      <td>1.000000</td>\n",
       "      <td>1.000000</td>\n",
       "      <td>65170.000000</td>\n",
       "      <td>4.108317e+06</td>\n",
       "      <td>17409.000000</td>\n",
       "      <td>1.449852e+07</td>\n",
       "      <td>208360.000000</td>\n",
       "      <td>1.000000</td>\n",
       "    </tr>\n",
       "  </tbody>\n",
       "</table>\n",
       "</div>"
      ],
      "text/plain": [
       "           polarity  subjectivity  favorite_count  status_count  \\\n",
       "count  22000.000000  22000.000000    22000.000000  2.200000e+04   \n",
       "mean       0.061325      0.283839      852.137318  5.446036e+04   \n",
       "std        0.223701      0.290963     3106.077645  1.454120e+05   \n",
       "min       -1.000000      0.000000        0.000000  1.000000e+00   \n",
       "25%        0.000000      0.000000        2.000000  2.105750e+03   \n",
       "50%        0.000000      0.200000      115.000000  1.038750e+04   \n",
       "75%        0.133333      0.468824      655.000000  4.526150e+04   \n",
       "max        1.000000      1.000000    65170.000000  4.108317e+06   \n",
       "\n",
       "       retweet_count  followers_count  friends_count  possibly_sensitive  \n",
       "count   22000.000000     2.200000e+04   22000.000000         6191.000000  \n",
       "mean      176.750182     1.796764e+04    1563.114455            0.037151  \n",
       "std       498.435765     3.030478e+05    4358.651264            0.189146  \n",
       "min         0.000000     0.000000e+00       0.000000            0.000000  \n",
       "25%         2.000000     5.700000e+01     137.000000            0.000000  \n",
       "50%        38.000000     2.840000e+02     487.000000            0.000000  \n",
       "75%       187.000000     1.324500e+03    1599.000000            0.000000  \n",
       "max     17409.000000     1.449852e+07  208360.000000            1.000000  "
      ]
     },
     "execution_count": 5,
     "metadata": {},
     "output_type": "execute_result"
    }
   ],
   "source": [
    "global_data.describe()"
   ]
  },
  {
   "cell_type": "markdown",
   "metadata": {},
   "source": [
    "## EDA"
   ]
  },
  {
   "cell_type": "markdown",
   "metadata": {},
   "source": [
    "### Remove duplicated rows"
   ]
  },
  {
   "cell_type": "code",
   "execution_count": 6,
   "metadata": {},
   "outputs": [
    {
     "name": "stdout",
     "output_type": "stream",
     "text": [
      "Automation in Action...!!!\n"
     ]
    },
    {
     "data": {
      "text/plain": [
       "(22000, 17)"
      ]
     },
     "execution_count": 6,
     "metadata": {},
     "output_type": "execute_result"
    }
   ],
   "source": [
    "clean_tweets = Clean_Tweets(global_data)\n",
    "clean_tweets.df.shape"
   ]
  },
  {
   "cell_type": "code",
   "execution_count": 7,
   "metadata": {},
   "outputs": [
    {
     "data": {
      "text/plain": [
       "(22000, 17)"
      ]
     },
     "execution_count": 7,
     "metadata": {},
     "output_type": "execute_result"
    }
   ],
   "source": [
    "clean_tweets.df.shape"
   ]
  },
  {
   "cell_type": "code",
   "execution_count": 8,
   "metadata": {},
   "outputs": [
    {
     "data": {
      "text/plain": [
       "(7440, 17)"
      ]
     },
     "execution_count": 8,
     "metadata": {},
     "output_type": "execute_result"
    }
   ],
   "source": [
    "clean_tweets = clean_tweets.drop_duplicate(global_data)\n",
    "clean_tweets.shape"
   ]
  },
  {
   "cell_type": "markdown",
   "metadata": {},
   "source": [
    "As we can see there were too many duplicates"
   ]
  },
  {
   "cell_type": "markdown",
   "metadata": {},
   "source": [
    "### Remove tweets that are not english"
   ]
  },
  {
   "cell_type": "code",
   "execution_count": 9,
   "metadata": {},
   "outputs": [
    {
     "data": {
      "text/plain": [
       "en    7440\n",
       "Name: lang, dtype: int64"
      ]
     },
     "execution_count": 9,
     "metadata": {},
     "output_type": "execute_result"
    }
   ],
   "source": [
    "clean_tweets.lang.value_counts()"
   ]
  },
  {
   "cell_type": "markdown",
   "metadata": {},
   "source": [
    "All tweets are in English"
   ]
  },
  {
   "cell_type": "markdown",
   "metadata": {},
   "source": [
    "### Missing values"
   ]
  },
  {
   "cell_type": "code",
   "execution_count": 10,
   "metadata": {},
   "outputs": [
    {
     "name": "stdout",
     "output_type": "stream",
     "text": [
      "<class 'pandas.core.frame.DataFrame'>\n",
      "Int64Index: 7440 entries, 0 to 21997\n",
      "Data columns (total 17 columns):\n",
      " #   Column              Non-Null Count  Dtype              \n",
      "---  ------              --------------  -----              \n",
      " 0   created_at          7440 non-null   datetime64[ns, UTC]\n",
      " 1   source              7440 non-null   object             \n",
      " 2   original_text       7440 non-null   object             \n",
      " 3   polarity            7440 non-null   float64            \n",
      " 4   subjectivity        7440 non-null   float64            \n",
      " 5   lang                7440 non-null   object             \n",
      " 6   favorite_count      7440 non-null   int64              \n",
      " 7   status_count        7440 non-null   int64              \n",
      " 8   retweet_count       7440 non-null   int64              \n",
      " 9   screen_name         7440 non-null   object             \n",
      " 10  original_author     7440 non-null   object             \n",
      " 11  followers_count     7440 non-null   int64              \n",
      " 12  friends_count       7440 non-null   int64              \n",
      " 13  possibly_sensitive  3977 non-null   float64            \n",
      " 14  hashtags            7440 non-null   object             \n",
      " 15  user_mentions       7440 non-null   object             \n",
      " 16  place               7440 non-null   object             \n",
      "dtypes: datetime64[ns, UTC](1), float64(3), int64(5), object(8)\n",
      "memory usage: 1.0+ MB\n"
     ]
    }
   ],
   "source": [
    "clean_tweets.info()"
   ]
  },
  {
   "cell_type": "markdown",
   "metadata": {},
   "source": [
    "Only the feature possibility sensitive have a missing value"
   ]
  },
  {
   "cell_type": "code",
   "execution_count": 11,
   "metadata": {},
   "outputs": [
    {
     "data": {
      "text/plain": [
       "0.0    3866\n",
       "1.0     111\n",
       "Name: possibly_sensitive, dtype: int64"
      ]
     },
     "execution_count": 11,
     "metadata": {},
     "output_type": "execute_result"
    }
   ],
   "source": [
    "clean_tweets.possibly_sensitive.value_counts()"
   ]
  },
  {
   "cell_type": "markdown",
   "metadata": {},
   "source": [
    "As we can see there are 3,866 not sensitive and 111 sensitive tweets\n",
    "And only 3,988 out of 77,000 tweets are recorded for sensitivity"
   ]
  },
  {
   "cell_type": "markdown",
   "metadata": {},
   "source": [
    "### Handling missing values"
   ]
  },
  {
   "cell_type": "code",
   "execution_count": 12,
   "metadata": {},
   "outputs": [
    {
     "data": {
      "text/plain": [
       "created_at            0\n",
       "source                0\n",
       "original_text         0\n",
       "polarity              0\n",
       "subjectivity          0\n",
       "lang                  0\n",
       "favorite_count        0\n",
       "status_count          0\n",
       "retweet_count         0\n",
       "screen_name           0\n",
       "original_author       0\n",
       "followers_count       0\n",
       "friends_count         0\n",
       "possibly_sensitive    0\n",
       "hashtags              0\n",
       "user_mentions         0\n",
       "place                 0\n",
       "dtype: int64"
      ]
     },
     "execution_count": 12,
     "metadata": {},
     "output_type": "execute_result"
    }
   ],
   "source": [
    "clean_tweets = Clean_Tweets.fill_missing(clean_tweets, df = clean_tweets, column=\"possibly_sensitive\", value = \"unknown\")\n",
    "clean_tweets.isna().sum()"
   ]
  },
  {
   "cell_type": "code",
   "execution_count": 13,
   "metadata": {},
   "outputs": [
    {
     "data": {
      "text/plain": [
       "Index(['created_at', 'source', 'original_text', 'polarity', 'subjectivity',\n",
       "       'lang', 'favorite_count', 'status_count', 'retweet_count',\n",
       "       'screen_name', 'original_author', 'followers_count', 'friends_count',\n",
       "       'possibly_sensitive', 'hashtags', 'user_mentions', 'place'],\n",
       "      dtype='object')"
      ]
     },
     "execution_count": 13,
     "metadata": {},
     "output_type": "execute_result"
    }
   ],
   "source": [
    "clean_tweets.columns"
   ]
  },
  {
   "cell_type": "code",
   "execution_count": 14,
   "metadata": {},
   "outputs": [
    {
     "data": {
      "text/html": [
       "<div>\n",
       "<style scoped>\n",
       "    .dataframe tbody tr th:only-of-type {\n",
       "        vertical-align: middle;\n",
       "    }\n",
       "\n",
       "    .dataframe tbody tr th {\n",
       "        vertical-align: top;\n",
       "    }\n",
       "\n",
       "    .dataframe thead th {\n",
       "        text-align: right;\n",
       "    }\n",
       "</style>\n",
       "<table border=\"1\" class=\"dataframe\">\n",
       "  <thead>\n",
       "    <tr style=\"text-align: right;\">\n",
       "      <th></th>\n",
       "      <th>retweet_count</th>\n",
       "      <th>source</th>\n",
       "      <th>original_text</th>\n",
       "      <th>hashtags</th>\n",
       "      <th>place</th>\n",
       "    </tr>\n",
       "  </thead>\n",
       "  <tbody>\n",
       "    <tr>\n",
       "      <th>0</th>\n",
       "      <td>2</td>\n",
       "      <td>&lt;a href=\"http://twitter.com/download/android\" ...</td>\n",
       "      <td>RT @i_ameztoy: Extra random image (I):\\n\\nLets...</td>\n",
       "      <td>[{'text': 'City', 'indices': [132, 137]}]</td>\n",
       "      <td></td>\n",
       "    </tr>\n",
       "    <tr>\n",
       "      <th>1</th>\n",
       "      <td>201</td>\n",
       "      <td>&lt;a href=\"http://twitter.com/download/android\" ...</td>\n",
       "      <td>RT @IndoPac_Info: #China's media explains the ...</td>\n",
       "      <td>[{'text': 'China', 'indices': [18, 24]}, {'tex...</td>\n",
       "      <td></td>\n",
       "    </tr>\n",
       "    <tr>\n",
       "      <th>2</th>\n",
       "      <td>0</td>\n",
       "      <td>&lt;a href=\"http://twitter.com/download/android\" ...</td>\n",
       "      <td>China even cut off communication, they don't a...</td>\n",
       "      <td>[{'text': 'XiJinping', 'indices': [127, 137]}]</td>\n",
       "      <td>Netherlands</td>\n",
       "    </tr>\n",
       "    <tr>\n",
       "      <th>3</th>\n",
       "      <td>0</td>\n",
       "      <td>&lt;a href=\"http://twitter.com/download/android\" ...</td>\n",
       "      <td>Putin to #XiJinping : I told you my friend, Ta...</td>\n",
       "      <td>[{'text': 'XiJinping', 'indices': [9, 19]}]</td>\n",
       "      <td>Netherlands</td>\n",
       "    </tr>\n",
       "    <tr>\n",
       "      <th>4</th>\n",
       "      <td>381</td>\n",
       "      <td>&lt;a href=\"http://twitter.com/download/iphone\" r...</td>\n",
       "      <td>RT @ChinaUncensored: I’m sorry, I thought Taiw...</td>\n",
       "      <td>[]</td>\n",
       "      <td>Ayent, Schweiz</td>\n",
       "    </tr>\n",
       "    <tr>\n",
       "      <th>...</th>\n",
       "      <td>...</td>\n",
       "      <td>...</td>\n",
       "      <td>...</td>\n",
       "      <td>...</td>\n",
       "      <td>...</td>\n",
       "    </tr>\n",
       "    <tr>\n",
       "      <th>21974</th>\n",
       "      <td>3</td>\n",
       "      <td>&lt;a href=\"https://mobile.twitter.com\" rel=\"nofo...</td>\n",
       "      <td>RT @metesohtaoglu: 📌📸 Map of #China's possible...</td>\n",
       "      <td>[{'text': 'China', 'indices': [29, 35]}, {'tex...</td>\n",
       "      <td>Seattle, WA</td>\n",
       "    </tr>\n",
       "    <tr>\n",
       "      <th>21987</th>\n",
       "      <td>1</td>\n",
       "      <td>&lt;a href=\"http://twitter.com/download/iphone\" r...</td>\n",
       "      <td>RT @NEVERBOW: China is doing #exactly what #Ru...</td>\n",
       "      <td>[{'text': 'exactly', 'indices': [29, 37]}, {'t...</td>\n",
       "      <td></td>\n",
       "    </tr>\n",
       "    <tr>\n",
       "      <th>21989</th>\n",
       "      <td>0</td>\n",
       "      <td>&lt;a href=\"http://twitter.com/download/iphone\" r...</td>\n",
       "      <td>Minister Wu is crystal clear in his @BBCNews i...</td>\n",
       "      <td>[{'text': 'Taiwan', 'indices': [168, 175]}, {'...</td>\n",
       "      <td>Toronto, Canada</td>\n",
       "    </tr>\n",
       "    <tr>\n",
       "      <th>21991</th>\n",
       "      <td>0</td>\n",
       "      <td>&lt;a href=\"http://twitter.com/download/android\" ...</td>\n",
       "      <td>Reports say that #China is planning to seize #...</td>\n",
       "      <td>[{'text': 'China', 'indices': [17, 23]}, {'tex...</td>\n",
       "      <td></td>\n",
       "    </tr>\n",
       "    <tr>\n",
       "      <th>21997</th>\n",
       "      <td>0</td>\n",
       "      <td>&lt;a href=\"http://twitter.com/download/android\" ...</td>\n",
       "      <td>@Reuters Thanks #Pelosi smart move.</td>\n",
       "      <td>[{'text': 'Pelosi', 'indices': [16, 23]}]</td>\n",
       "      <td>🇺🇲🇷🇺🇺🇦🇫🇷🇦🇪🇮🇱🏳️‍🌈</td>\n",
       "    </tr>\n",
       "  </tbody>\n",
       "</table>\n",
       "<p>7440 rows × 5 columns</p>\n",
       "</div>"
      ],
      "text/plain": [
       "       retweet_count                                             source  \\\n",
       "0                  2  <a href=\"http://twitter.com/download/android\" ...   \n",
       "1                201  <a href=\"http://twitter.com/download/android\" ...   \n",
       "2                  0  <a href=\"http://twitter.com/download/android\" ...   \n",
       "3                  0  <a href=\"http://twitter.com/download/android\" ...   \n",
       "4                381  <a href=\"http://twitter.com/download/iphone\" r...   \n",
       "...              ...                                                ...   \n",
       "21974              3  <a href=\"https://mobile.twitter.com\" rel=\"nofo...   \n",
       "21987              1  <a href=\"http://twitter.com/download/iphone\" r...   \n",
       "21989              0  <a href=\"http://twitter.com/download/iphone\" r...   \n",
       "21991              0  <a href=\"http://twitter.com/download/android\" ...   \n",
       "21997              0  <a href=\"http://twitter.com/download/android\" ...   \n",
       "\n",
       "                                           original_text  \\\n",
       "0      RT @i_ameztoy: Extra random image (I):\\n\\nLets...   \n",
       "1      RT @IndoPac_Info: #China's media explains the ...   \n",
       "2      China even cut off communication, they don't a...   \n",
       "3      Putin to #XiJinping : I told you my friend, Ta...   \n",
       "4      RT @ChinaUncensored: I’m sorry, I thought Taiw...   \n",
       "...                                                  ...   \n",
       "21974  RT @metesohtaoglu: 📌📸 Map of #China's possible...   \n",
       "21987  RT @NEVERBOW: China is doing #exactly what #Ru...   \n",
       "21989  Minister Wu is crystal clear in his @BBCNews i...   \n",
       "21991  Reports say that #China is planning to seize #...   \n",
       "21997                @Reuters Thanks #Pelosi smart move.   \n",
       "\n",
       "                                                hashtags             place  \n",
       "0              [{'text': 'City', 'indices': [132, 137]}]                    \n",
       "1      [{'text': 'China', 'indices': [18, 24]}, {'tex...                    \n",
       "2         [{'text': 'XiJinping', 'indices': [127, 137]}]       Netherlands  \n",
       "3            [{'text': 'XiJinping', 'indices': [9, 19]}]       Netherlands  \n",
       "4                                                     []    Ayent, Schweiz  \n",
       "...                                                  ...               ...  \n",
       "21974  [{'text': 'China', 'indices': [29, 35]}, {'tex...       Seattle, WA  \n",
       "21987  [{'text': 'exactly', 'indices': [29, 37]}, {'t...                    \n",
       "21989  [{'text': 'Taiwan', 'indices': [168, 175]}, {'...   Toronto, Canada  \n",
       "21991  [{'text': 'China', 'indices': [17, 23]}, {'tex...                    \n",
       "21997          [{'text': 'Pelosi', 'indices': [16, 23]}]  🇺🇲🇷🇺🇺🇦🇫🇷🇦🇪🇮🇱🏳️‍🌈  \n",
       "\n",
       "[7440 rows x 5 columns]"
      ]
     },
     "execution_count": 14,
     "metadata": {},
     "output_type": "execute_result"
    }
   ],
   "source": [
    "clean_tweets[['retweet_count', 'source', 'original_text', 'hashtags', 'place']]"
   ]
  },
  {
   "cell_type": "markdown",
   "metadata": {},
   "source": [
    "There are empty place values"
   ]
  },
  {
   "cell_type": "markdown",
   "metadata": {},
   "source": [
    "### Replace empty strings"
   ]
  },
  {
   "cell_type": "code",
   "execution_count": 15,
   "metadata": {},
   "outputs": [
    {
     "data": {
      "text/plain": [
       "unknown                           2805\n",
       "Việt Nam                           116\n",
       "India                              107\n",
       "United States                       72\n",
       "Turn on 🔔                           57\n",
       "                                  ... \n",
       "New York, New York                   1\n",
       "Fontaines-Saint-Martin, France       1\n",
       "🇺🇲🇺🇲🇺🇲                               1\n",
       "Lisbon                               1\n",
       "🇺🇲🇷🇺🇺🇦🇫🇷🇦🇪🇮🇱🏳️‍🌈                     1\n",
       "Name: place, Length: 1809, dtype: int64"
      ]
     },
     "execution_count": 15,
     "metadata": {},
     "output_type": "execute_result"
    }
   ],
   "source": [
    "clean_tweets = Clean_Tweets.replace_empty_string(clean_tweets, df = clean_tweets, column=\"place\", value = \"unknown\")\n",
    "clean_tweets['place'].value_counts()"
   ]
  },
  {
   "cell_type": "markdown",
   "metadata": {},
   "source": [
    "### Convert to datetime"
   ]
  },
  {
   "cell_type": "code",
   "execution_count": 16,
   "metadata": {},
   "outputs": [
    {
     "name": "stdout",
     "output_type": "stream",
     "text": [
      "<class 'pandas.core.frame.DataFrame'>\n",
      "Int64Index: 7440 entries, 0 to 21997\n",
      "Data columns (total 17 columns):\n",
      " #   Column              Non-Null Count  Dtype              \n",
      "---  ------              --------------  -----              \n",
      " 0   created_at          7440 non-null   datetime64[ns, UTC]\n",
      " 1   source              7440 non-null   object             \n",
      " 2   original_text       7440 non-null   object             \n",
      " 3   polarity            7440 non-null   float64            \n",
      " 4   subjectivity        7440 non-null   float64            \n",
      " 5   lang                7440 non-null   object             \n",
      " 6   favorite_count      7440 non-null   int64              \n",
      " 7   status_count        7440 non-null   int64              \n",
      " 8   retweet_count       7440 non-null   int64              \n",
      " 9   screen_name         7440 non-null   object             \n",
      " 10  original_author     7440 non-null   object             \n",
      " 11  followers_count     7440 non-null   int64              \n",
      " 12  friends_count       7440 non-null   int64              \n",
      " 13  possibly_sensitive  7440 non-null   object             \n",
      " 14  hashtags            7440 non-null   object             \n",
      " 15  user_mentions       7440 non-null   object             \n",
      " 16  place               7440 non-null   object             \n",
      "dtypes: datetime64[ns, UTC](1), float64(2), int64(5), object(9)\n",
      "memory usage: 1.0+ MB\n"
     ]
    }
   ],
   "source": [
    "clean_tweets['created_at'] = pd.to_datetime(clean_tweets['created_at'])\n",
    "clean_tweets.info()"
   ]
  },
  {
   "cell_type": "markdown",
   "metadata": {},
   "source": [
    "### extract source of tweets"
   ]
  },
  {
   "cell_type": "code",
   "execution_count": 17,
   "metadata": {},
   "outputs": [],
   "source": [
    "#clean_tweets[\"source\"] = clean_tweets[\"source\"].apply(Clean_Tweets.extract_device_name(self = clean_tweets, source='source'))"
   ]
  },
  {
   "cell_type": "markdown",
   "metadata": {},
   "source": [
    "### save current dataset"
   ]
  },
  {
   "cell_type": "code",
   "execution_count": 18,
   "metadata": {},
   "outputs": [
    {
     "name": "stdout",
     "output_type": "stream",
     "text": [
      "clean data saved successfully\n"
     ]
    }
   ],
   "source": [
    "clean_tweets.to_csv('../data/clean_data.csv', index = False)\n",
    "print('clean data saved successfully')"
   ]
  }
 ],
 "metadata": {
  "kernelspec": {
   "display_name": "Python 3.10.5 64-bit",
   "language": "python",
   "name": "python3"
  },
  "language_info": {
   "codemirror_mode": {
    "name": "ipython",
    "version": 3
   },
   "file_extension": ".py",
   "mimetype": "text/x-python",
   "name": "python",
   "nbconvert_exporter": "python",
   "pygments_lexer": "ipython3",
   "version": "3.10.5"
  },
  "orig_nbformat": 4,
  "vscode": {
   "interpreter": {
    "hash": "a265634967a27dd555e8346f2355ee703e655fd7f0a0d20c168527cd0a3d5707"
   }
  }
 },
 "nbformat": 4,
 "nbformat_minor": 2
}
